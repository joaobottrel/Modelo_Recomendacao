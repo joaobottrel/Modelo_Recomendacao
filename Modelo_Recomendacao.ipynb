{
  "nbformat": 4,
  "nbformat_minor": 0,
  "metadata": {
    "colab": {
      "name": "Modelo_Recomendacao.ipynb",
      "provenance": [],
      "collapsed_sections": [],
      "authorship_tag": "ABX9TyORW0TKtXuQLKVDAUQt6rqu"
    },
    "kernelspec": {
      "name": "python3",
      "display_name": "Python 3"
    },
    "language_info": {
      "name": "python"
    }
  },
  "cells": [
    {
      "cell_type": "markdown",
      "metadata": {
        "id": "p2wLyeG5mddL"
      },
      "source": [
        "##João Augusto Silva Bottrel - RID0468 (Dinamica DNC DEX Day_07)"
      ]
    },
    {
      "cell_type": "markdown",
      "metadata": {
        "id": "SjAa_keaUu_Q"
      },
      "source": [
        "Objetivo: Criar um modelo de recomendação baseado em um histórico de vendas, produtos e reviews de uma plataforma de e-commerce"
      ]
    },
    {
      "cell_type": "markdown",
      "metadata": {
        "id": "88Yoezecmg1y"
      },
      "source": [
        "#0. Importando Bibliotecas"
      ]
    },
    {
      "cell_type": "code",
      "metadata": {
        "id": "8Uu3jZZImdDj"
      },
      "source": [
        "import numpy as np\n",
        "import pandas as pd\n",
        "import seaborn as sns\n",
        "import matplotlib.pyplot as plt"
      ],
      "execution_count": 1,
      "outputs": []
    },
    {
      "cell_type": "markdown",
      "metadata": {
        "id": "-CoalsZZmk5U"
      },
      "source": [
        "#1. Importando o Dataset"
      ]
    },
    {
      "cell_type": "code",
      "metadata": {
        "colab": {
          "base_uri": "https://localhost:8080/"
        },
        "id": "5cfK7VnKmb6l",
        "outputId": "1baa8105-00a6-4197-f697-651965aa5b83"
      },
      "source": [
        "from google.colab import drive\n",
        "drive.mount('/content/gdrive', force_remount=True)"
      ],
      "execution_count": 2,
      "outputs": [
        {
          "output_type": "stream",
          "name": "stdout",
          "text": [
            "Mounted at /content/gdrive\n"
          ]
        }
      ]
    },
    {
      "cell_type": "code",
      "metadata": {
        "id": "ZzMN5k3kmnMQ"
      },
      "source": [
        "path1='/content/gdrive/MyDrive/Colab Notebooks/Bases/DNC_order_items_dataset.csv'\n",
        "df_items=pd.read_csv(path1,index_col='Unnamed: 0')"
      ],
      "execution_count": 3,
      "outputs": []
    },
    {
      "cell_type": "code",
      "metadata": {
        "id": "N3pbPMc9oWiJ"
      },
      "source": [
        "path2='/content/gdrive/MyDrive/Colab Notebooks/Bases/DNC_order_reviews_dataset.csv'\n",
        "df_reviews=pd.read_csv(path2,index_col='Unnamed: 0')"
      ],
      "execution_count": 4,
      "outputs": []
    },
    {
      "cell_type": "code",
      "metadata": {
        "id": "Q-_w1sTAoXIt"
      },
      "source": [
        "path3='/content/gdrive/MyDrive/Colab Notebooks/Bases/DNC_orders_dataset.csv'\n",
        "df_orders=pd.read_csv(path3,index_col='Unnamed: 0')"
      ],
      "execution_count": 5,
      "outputs": []
    },
    {
      "cell_type": "code",
      "metadata": {
        "id": "eledC1CXoYPf"
      },
      "source": [
        "path4='/content/gdrive/MyDrive/Colab Notebooks/Bases/DNC_products_dataset.csv'\n",
        "df_products=pd.read_csv(path4,index_col='Unnamed: 0')"
      ],
      "execution_count": 6,
      "outputs": []
    },
    {
      "cell_type": "markdown",
      "metadata": {
        "id": "0I_hGZ69dGdg"
      },
      "source": [
        "#2. Análise inicial dos dados"
      ]
    },
    {
      "cell_type": "markdown",
      "metadata": {
        "id": "eFHzmTjdb51S"
      },
      "source": [
        "##2.1 Dataset de itens"
      ]
    },
    {
      "cell_type": "code",
      "metadata": {
        "colab": {
          "base_uri": "https://localhost:8080/",
          "height": 204
        },
        "id": "nwY3QqJLsgXk",
        "outputId": "44e44cc2-d9c8-45ff-9206-f98c9de15e11"
      },
      "source": [
        "df_items.sample(5)"
      ],
      "execution_count": 7,
      "outputs": [
        {
          "output_type": "execute_result",
          "data": {
            "text/html": [
              "<div>\n",
              "<style scoped>\n",
              "    .dataframe tbody tr th:only-of-type {\n",
              "        vertical-align: middle;\n",
              "    }\n",
              "\n",
              "    .dataframe tbody tr th {\n",
              "        vertical-align: top;\n",
              "    }\n",
              "\n",
              "    .dataframe thead th {\n",
              "        text-align: right;\n",
              "    }\n",
              "</style>\n",
              "<table border=\"1\" class=\"dataframe\">\n",
              "  <thead>\n",
              "    <tr style=\"text-align: right;\">\n",
              "      <th></th>\n",
              "      <th>order_id</th>\n",
              "      <th>order_item_id</th>\n",
              "      <th>product_id</th>\n",
              "      <th>price</th>\n",
              "    </tr>\n",
              "  </thead>\n",
              "  <tbody>\n",
              "    <tr>\n",
              "      <th>29931</th>\n",
              "      <td>4409a8e68e232a6718d156e93a58f3ec</td>\n",
              "      <td>1</td>\n",
              "      <td>acdf83e7694c8eec22e6b19bc59f4e60</td>\n",
              "      <td>30.6</td>\n",
              "    </tr>\n",
              "    <tr>\n",
              "      <th>55741</th>\n",
              "      <td>7ec1a2c6522b9fcb54c68a4f8ff6f331</td>\n",
              "      <td>1</td>\n",
              "      <td>2b939dc9b176d7fa21594d588815d4a4</td>\n",
              "      <td>77.5</td>\n",
              "    </tr>\n",
              "    <tr>\n",
              "      <th>67114</th>\n",
              "      <td>996763a377a7e96ea28f02058d1e1883</td>\n",
              "      <td>2</td>\n",
              "      <td>90aaf7f993470e411207adabf5b998b6</td>\n",
              "      <td>199.0</td>\n",
              "    </tr>\n",
              "    <tr>\n",
              "      <th>57542</th>\n",
              "      <td>82eba8671de9a5c76c7f3edfcd993955</td>\n",
              "      <td>1</td>\n",
              "      <td>1cee481bc2bde9c49bba35c615d52e78</td>\n",
              "      <td>34.9</td>\n",
              "    </tr>\n",
              "    <tr>\n",
              "      <th>8923</th>\n",
              "      <td>1469262ec8414d0e3f821bda79cf14cc</td>\n",
              "      <td>1</td>\n",
              "      <td>59fb1c8d9f3640a622cf774c3867e170</td>\n",
              "      <td>38.9</td>\n",
              "    </tr>\n",
              "  </tbody>\n",
              "</table>\n",
              "</div>"
            ],
            "text/plain": [
              "                               order_id  ...  price\n",
              "29931  4409a8e68e232a6718d156e93a58f3ec  ...   30.6\n",
              "55741  7ec1a2c6522b9fcb54c68a4f8ff6f331  ...   77.5\n",
              "67114  996763a377a7e96ea28f02058d1e1883  ...  199.0\n",
              "57542  82eba8671de9a5c76c7f3edfcd993955  ...   34.9\n",
              "8923   1469262ec8414d0e3f821bda79cf14cc  ...   38.9\n",
              "\n",
              "[5 rows x 4 columns]"
            ]
          },
          "metadata": {},
          "execution_count": 7
        }
      ]
    },
    {
      "cell_type": "markdown",
      "metadata": {
        "id": "RQMi3khydN-N"
      },
      "source": [
        "O dataset de itens possui como variáveis:        \n",
        "* order_id = identificador do pedido de compra,\n",
        "* order_tem_id = número de produtos em uma mesma compra,\n",
        "* product_id = identificador do produto"
      ]
    },
    {
      "cell_type": "code",
      "metadata": {
        "colab": {
          "base_uri": "https://localhost:8080/"
        },
        "id": "zZ9i_nSdyD1t",
        "outputId": "8ce3bc1c-9e9b-4b40-9611-a7041d50c74f"
      },
      "source": [
        "df_items['order_id'].value_counts()"
      ],
      "execution_count": 8,
      "outputs": [
        {
          "output_type": "execute_result",
          "data": {
            "text/plain": [
              "8272b63d03f5f79c56e9e4120aec44ef    21\n",
              "ab14fdcfbe524636d65ee38360e22ce8    20\n",
              "1b15974a0141d54e36626dca3fdc731a    20\n",
              "9ef13efd6949e4573a18964dd1bbe7f5    15\n",
              "428a2f660dc84138d969ccd69a0ab6d5    15\n",
              "                                    ..\n",
              "f9207b5726780645ebba8401ccc336c6     1\n",
              "ff07ff058c25c993a564127557043c5a     1\n",
              "bc2e4d7ad808e01f4e639fc4c447966a     1\n",
              "d15a4add9a1af2006ad10d70d9a4b634     1\n",
              "9827d07ad9392a9fff10d7b9f6c05f7e     1\n",
              "Name: order_id, Length: 98666, dtype: int64"
            ]
          },
          "metadata": {},
          "execution_count": 8
        }
      ]
    },
    {
      "cell_type": "markdown",
      "metadata": {
        "id": "c3oODRL9d7ok"
      },
      "source": [
        "O resultado acima indica que tem alguns pedidos de compra que possui diversos produtos"
      ]
    },
    {
      "cell_type": "code",
      "metadata": {
        "colab": {
          "base_uri": "https://localhost:8080/"
        },
        "id": "7mM9JwhcqaAy",
        "outputId": "79c4e98a-a6e4-4ede-d4d1-1177e2a648d3"
      },
      "source": [
        "df_items.shape #Verificar o tamanho do dataset"
      ],
      "execution_count": 9,
      "outputs": [
        {
          "output_type": "execute_result",
          "data": {
            "text/plain": [
              "(112650, 4)"
            ]
          },
          "metadata": {},
          "execution_count": 9
        }
      ]
    },
    {
      "cell_type": "markdown",
      "metadata": {
        "id": "41pNX3kEeLU5"
      },
      "source": [
        "##2.2 Dataset de reviews"
      ]
    },
    {
      "cell_type": "code",
      "metadata": {
        "colab": {
          "base_uri": "https://localhost:8080/",
          "height": 204
        },
        "id": "w-zpvXckpTfp",
        "outputId": "c21ceb3a-53bf-4248-dde5-3d8361476d05"
      },
      "source": [
        "df_reviews.sample(5)"
      ],
      "execution_count": 10,
      "outputs": [
        {
          "output_type": "execute_result",
          "data": {
            "text/html": [
              "<div>\n",
              "<style scoped>\n",
              "    .dataframe tbody tr th:only-of-type {\n",
              "        vertical-align: middle;\n",
              "    }\n",
              "\n",
              "    .dataframe tbody tr th {\n",
              "        vertical-align: top;\n",
              "    }\n",
              "\n",
              "    .dataframe thead th {\n",
              "        text-align: right;\n",
              "    }\n",
              "</style>\n",
              "<table border=\"1\" class=\"dataframe\">\n",
              "  <thead>\n",
              "    <tr style=\"text-align: right;\">\n",
              "      <th></th>\n",
              "      <th>review_id</th>\n",
              "      <th>order_id</th>\n",
              "      <th>review_score</th>\n",
              "    </tr>\n",
              "  </thead>\n",
              "  <tbody>\n",
              "    <tr>\n",
              "      <th>71041</th>\n",
              "      <td>3fbb9f98fa47e6456c2e228882107944</td>\n",
              "      <td>0c31ed220260a476cfe59bbb6608b7ad</td>\n",
              "      <td>4</td>\n",
              "    </tr>\n",
              "    <tr>\n",
              "      <th>86656</th>\n",
              "      <td>e8b089ecc2f8aa46c9893626bae20cf8</td>\n",
              "      <td>0067c6030d65af0ff98790158ddb0020</td>\n",
              "      <td>5</td>\n",
              "    </tr>\n",
              "    <tr>\n",
              "      <th>42037</th>\n",
              "      <td>676890677144bf02e6674985b3b620cd</td>\n",
              "      <td>471203d247e323c6eeb7ddbea92e69f4</td>\n",
              "      <td>3</td>\n",
              "    </tr>\n",
              "    <tr>\n",
              "      <th>45176</th>\n",
              "      <td>9e25d6e3025e9b9a0fc7f03588d33e2b</td>\n",
              "      <td>869997fbe01f39d184956b5c6bccfdbe</td>\n",
              "      <td>1</td>\n",
              "    </tr>\n",
              "    <tr>\n",
              "      <th>82937</th>\n",
              "      <td>2bc3e0fbe51f83f0a4ff9ae1852b01f9</td>\n",
              "      <td>34d92634e60b8234ac42750fd4b76fec</td>\n",
              "      <td>4</td>\n",
              "    </tr>\n",
              "  </tbody>\n",
              "</table>\n",
              "</div>"
            ],
            "text/plain": [
              "                              review_id  ... review_score\n",
              "71041  3fbb9f98fa47e6456c2e228882107944  ...            4\n",
              "86656  e8b089ecc2f8aa46c9893626bae20cf8  ...            5\n",
              "42037  676890677144bf02e6674985b3b620cd  ...            3\n",
              "45176  9e25d6e3025e9b9a0fc7f03588d33e2b  ...            1\n",
              "82937  2bc3e0fbe51f83f0a4ff9ae1852b01f9  ...            4\n",
              "\n",
              "[5 rows x 3 columns]"
            ]
          },
          "metadata": {},
          "execution_count": 10
        }
      ]
    },
    {
      "cell_type": "markdown",
      "metadata": {
        "id": "sjtgWLr3eXwN"
      },
      "source": [
        "O dataset de reviews possui como variáveis:        \n",
        "* order_id = identificador do pedido de compra,\n",
        "* review_id = identificador da revisão do pedido de compra,\n",
        "* review_score = nota ( 1 a 5) que o consumidor atribuiu ao pedido de compra"
      ]
    },
    {
      "cell_type": "code",
      "metadata": {
        "colab": {
          "base_uri": "https://localhost:8080/"
        },
        "id": "P4XfcbUmqddV",
        "outputId": "334b88f5-1bbd-4619-87ea-b2b18704d21e"
      },
      "source": [
        "df_reviews.shape #Verificar o tamanho do dataset"
      ],
      "execution_count": 11,
      "outputs": [
        {
          "output_type": "execute_result",
          "data": {
            "text/plain": [
              "(99224, 3)"
            ]
          },
          "metadata": {},
          "execution_count": 11
        }
      ]
    },
    {
      "cell_type": "markdown",
      "metadata": {
        "id": "ipy1vZQoe7K0"
      },
      "source": [
        "##2.3 Dataset de ordens\n",
        "\n"
      ]
    },
    {
      "cell_type": "code",
      "metadata": {
        "colab": {
          "base_uri": "https://localhost:8080/",
          "height": 204
        },
        "id": "aESgkhFrphlg",
        "outputId": "7f5f958a-9c6a-47b0-da52-4593ebda4d1d"
      },
      "source": [
        "df_orders.sample(5)"
      ],
      "execution_count": 12,
      "outputs": [
        {
          "output_type": "execute_result",
          "data": {
            "text/html": [
              "<div>\n",
              "<style scoped>\n",
              "    .dataframe tbody tr th:only-of-type {\n",
              "        vertical-align: middle;\n",
              "    }\n",
              "\n",
              "    .dataframe tbody tr th {\n",
              "        vertical-align: top;\n",
              "    }\n",
              "\n",
              "    .dataframe thead th {\n",
              "        text-align: right;\n",
              "    }\n",
              "</style>\n",
              "<table border=\"1\" class=\"dataframe\">\n",
              "  <thead>\n",
              "    <tr style=\"text-align: right;\">\n",
              "      <th></th>\n",
              "      <th>order_id</th>\n",
              "      <th>customer_id</th>\n",
              "      <th>order_status</th>\n",
              "    </tr>\n",
              "  </thead>\n",
              "  <tbody>\n",
              "    <tr>\n",
              "      <th>37141</th>\n",
              "      <td>e0ef63a06438a4f6dfa047fc41217f8e</td>\n",
              "      <td>3faca6b775e45e3b971ab1263ef1c2ec</td>\n",
              "      <td>delivered</td>\n",
              "    </tr>\n",
              "    <tr>\n",
              "      <th>13458</th>\n",
              "      <td>052b35671e2bdd45aa889c5fa09e2809</td>\n",
              "      <td>29509a171c5d01602fbd7afb4ecbfa06</td>\n",
              "      <td>delivered</td>\n",
              "    </tr>\n",
              "    <tr>\n",
              "      <th>8179</th>\n",
              "      <td>72fb560d115ecf3b15de9b853c02e505</td>\n",
              "      <td>d90af5c00814430fc3e212e8163bf2b8</td>\n",
              "      <td>delivered</td>\n",
              "    </tr>\n",
              "    <tr>\n",
              "      <th>82798</th>\n",
              "      <td>6e1fdac1871d58f1e81976be36a2634a</td>\n",
              "      <td>b1025fe116e2906edeb529c659bac499</td>\n",
              "      <td>delivered</td>\n",
              "    </tr>\n",
              "    <tr>\n",
              "      <th>77248</th>\n",
              "      <td>390056468c27192af8354d708051054e</td>\n",
              "      <td>c450d2558dd77bc0cd8b290f5af4f5fa</td>\n",
              "      <td>delivered</td>\n",
              "    </tr>\n",
              "  </tbody>\n",
              "</table>\n",
              "</div>"
            ],
            "text/plain": [
              "                               order_id  ... order_status\n",
              "37141  e0ef63a06438a4f6dfa047fc41217f8e  ...    delivered\n",
              "13458  052b35671e2bdd45aa889c5fa09e2809  ...    delivered\n",
              "8179   72fb560d115ecf3b15de9b853c02e505  ...    delivered\n",
              "82798  6e1fdac1871d58f1e81976be36a2634a  ...    delivered\n",
              "77248  390056468c27192af8354d708051054e  ...    delivered\n",
              "\n",
              "[5 rows x 3 columns]"
            ]
          },
          "metadata": {},
          "execution_count": 12
        }
      ]
    },
    {
      "cell_type": "markdown",
      "metadata": {
        "id": "EQoHQic6fPZm"
      },
      "source": [
        "O dataset de orders possui como variáveis:        \n",
        "* order_id = identificador do pedido de compra,\n",
        "* customer_id = identificador do usuário que efetuou a compra,\n",
        "* order_status = status da entrega do produto"
      ]
    },
    {
      "cell_type": "code",
      "metadata": {
        "colab": {
          "base_uri": "https://localhost:8080/"
        },
        "id": "gRwweZN7qiTy",
        "outputId": "a7e07086-0125-435e-a718-4f89bf631788"
      },
      "source": [
        "df_orders.shape #Verificar o tamanho do dataset"
      ],
      "execution_count": 13,
      "outputs": [
        {
          "output_type": "execute_result",
          "data": {
            "text/plain": [
              "(99441, 3)"
            ]
          },
          "metadata": {},
          "execution_count": 13
        }
      ]
    },
    {
      "cell_type": "markdown",
      "metadata": {
        "id": "TqgJRnIUfdCk"
      },
      "source": [
        "##2.4 Dataset de produtos"
      ]
    },
    {
      "cell_type": "code",
      "metadata": {
        "colab": {
          "base_uri": "https://localhost:8080/",
          "height": 204
        },
        "id": "6X1ktDtZps3b",
        "outputId": "4e243df3-e02d-45ef-a933-16d33e287132"
      },
      "source": [
        "df_products.sample(5)"
      ],
      "execution_count": 14,
      "outputs": [
        {
          "output_type": "execute_result",
          "data": {
            "text/html": [
              "<div>\n",
              "<style scoped>\n",
              "    .dataframe tbody tr th:only-of-type {\n",
              "        vertical-align: middle;\n",
              "    }\n",
              "\n",
              "    .dataframe tbody tr th {\n",
              "        vertical-align: top;\n",
              "    }\n",
              "\n",
              "    .dataframe thead th {\n",
              "        text-align: right;\n",
              "    }\n",
              "</style>\n",
              "<table border=\"1\" class=\"dataframe\">\n",
              "  <thead>\n",
              "    <tr style=\"text-align: right;\">\n",
              "      <th></th>\n",
              "      <th>product_id</th>\n",
              "      <th>product_category_name</th>\n",
              "      <th>product_name_lenght</th>\n",
              "      <th>product_description_lenght</th>\n",
              "      <th>product_weight_g</th>\n",
              "      <th>product_length_cm</th>\n",
              "      <th>product_height_cm</th>\n",
              "      <th>product_width_cm</th>\n",
              "    </tr>\n",
              "  </thead>\n",
              "  <tbody>\n",
              "    <tr>\n",
              "      <th>19284</th>\n",
              "      <td>35ffbac108d291eae9a8df90f92f6fad</td>\n",
              "      <td>eletrodomesticos</td>\n",
              "      <td>54.0</td>\n",
              "      <td>186.0</td>\n",
              "      <td>950.0</td>\n",
              "      <td>62.0</td>\n",
              "      <td>17.0</td>\n",
              "      <td>25.0</td>\n",
              "    </tr>\n",
              "    <tr>\n",
              "      <th>27156</th>\n",
              "      <td>c7a94c6dde9d81dc864941084dbdfe45</td>\n",
              "      <td>esporte_lazer</td>\n",
              "      <td>58.0</td>\n",
              "      <td>246.0</td>\n",
              "      <td>1100.0</td>\n",
              "      <td>60.0</td>\n",
              "      <td>15.0</td>\n",
              "      <td>15.0</td>\n",
              "    </tr>\n",
              "    <tr>\n",
              "      <th>10049</th>\n",
              "      <td>92b82f3b6d4670bba0ae207094f1d226</td>\n",
              "      <td>moveis_decoracao</td>\n",
              "      <td>45.0</td>\n",
              "      <td>96.0</td>\n",
              "      <td>10100.0</td>\n",
              "      <td>60.0</td>\n",
              "      <td>10.0</td>\n",
              "      <td>40.0</td>\n",
              "    </tr>\n",
              "    <tr>\n",
              "      <th>17993</th>\n",
              "      <td>f6a84928571f68635beb0f5c9333c6f3</td>\n",
              "      <td>esporte_lazer</td>\n",
              "      <td>60.0</td>\n",
              "      <td>1247.0</td>\n",
              "      <td>30000.0</td>\n",
              "      <td>86.0</td>\n",
              "      <td>66.0</td>\n",
              "      <td>36.0</td>\n",
              "    </tr>\n",
              "    <tr>\n",
              "      <th>5323</th>\n",
              "      <td>ec6bda3514b2616da08c5139893b14d2</td>\n",
              "      <td>moveis_decoracao</td>\n",
              "      <td>23.0</td>\n",
              "      <td>468.0</td>\n",
              "      <td>800.0</td>\n",
              "      <td>16.0</td>\n",
              "      <td>5.0</td>\n",
              "      <td>16.0</td>\n",
              "    </tr>\n",
              "  </tbody>\n",
              "</table>\n",
              "</div>"
            ],
            "text/plain": [
              "                             product_id  ... product_width_cm\n",
              "19284  35ffbac108d291eae9a8df90f92f6fad  ...             25.0\n",
              "27156  c7a94c6dde9d81dc864941084dbdfe45  ...             15.0\n",
              "10049  92b82f3b6d4670bba0ae207094f1d226  ...             40.0\n",
              "17993  f6a84928571f68635beb0f5c9333c6f3  ...             36.0\n",
              "5323   ec6bda3514b2616da08c5139893b14d2  ...             16.0\n",
              "\n",
              "[5 rows x 8 columns]"
            ]
          },
          "metadata": {},
          "execution_count": 14
        }
      ]
    },
    {
      "cell_type": "markdown",
      "metadata": {
        "id": "PjY4UcQQfhzF"
      },
      "source": [
        "O dataset de orders possui como variáveis:        \n",
        "* product_id = identificador do produto,\n",
        "* product_category_name = Categoria do produto,\n",
        "* product_name_length = Tamanho do nome do produto\n",
        "* product_description_length = comprimento do produto\n",
        "* products_weight_g = peso do produto em g\n",
        "* products_lenght_cm = comprimento do produto em cm\n",
        "* products_height_cm = Altura do produto em cm\n",
        "* product_widht_cm = largura do produto em cm"
      ]
    },
    {
      "cell_type": "code",
      "metadata": {
        "colab": {
          "base_uri": "https://localhost:8080/"
        },
        "id": "HrbvxUOdp0LN",
        "outputId": "9cde2c48-2eef-414f-9212-673779307510"
      },
      "source": [
        "df_products.shape #Verificar o tamanho do dataset"
      ],
      "execution_count": 15,
      "outputs": [
        {
          "output_type": "execute_result",
          "data": {
            "text/plain": [
              "(32951, 8)"
            ]
          },
          "metadata": {},
          "execution_count": 15
        }
      ]
    },
    {
      "cell_type": "code",
      "metadata": {
        "colab": {
          "base_uri": "https://localhost:8080/"
        },
        "id": "E-OOJJhzqp0y",
        "outputId": "27bcdf0b-3e93-4840-8161-b8a4003799fe"
      },
      "source": [
        "df_products['product_category_name'].value_counts() #Avaliando quantidade de produtos por categoria"
      ],
      "execution_count": 16,
      "outputs": [
        {
          "output_type": "execute_result",
          "data": {
            "text/plain": [
              "cama_mesa_banho                  3029\n",
              "esporte_lazer                    2867\n",
              "moveis_decoracao                 2657\n",
              "beleza_saude                     2444\n",
              "utilidades_domesticas            2335\n",
              "                                 ... \n",
              "casa_conforto_2                     5\n",
              "fashion_roupa_infanto_juvenil       5\n",
              "pc_gamer                            3\n",
              "seguros_e_servicos                  2\n",
              "cds_dvds_musicais                   1\n",
              "Name: product_category_name, Length: 73, dtype: int64"
            ]
          },
          "metadata": {},
          "execution_count": 16
        }
      ]
    },
    {
      "cell_type": "markdown",
      "metadata": {
        "id": "XTNdPLjbgORq"
      },
      "source": [
        "#3 Tratamento e limpeza dos dados"
      ]
    },
    {
      "cell_type": "markdown",
      "metadata": {
        "id": "8Ru8XcqZg32w"
      },
      "source": [
        "Aqui vamos unir os datasets de items e reviews utilizando o order_id como chave em seguida repetir o procedimento para o dataset de orders"
      ]
    },
    {
      "cell_type": "code",
      "metadata": {
        "id": "HERMOlXut9vs"
      },
      "source": [
        "df4 = pd.merge(df_items,df_reviews,how='inner',on='order_id')"
      ],
      "execution_count": 17,
      "outputs": []
    },
    {
      "cell_type": "code",
      "metadata": {
        "colab": {
          "base_uri": "https://localhost:8080/"
        },
        "id": "Crg_f_qdzIbj",
        "outputId": "a5b241ff-9131-4787-c121-54b6731fea1a"
      },
      "source": [
        "df4.isnull().sum()"
      ],
      "execution_count": 18,
      "outputs": [
        {
          "output_type": "execute_result",
          "data": {
            "text/plain": [
              "order_id         0\n",
              "order_item_id    0\n",
              "product_id       0\n",
              "price            0\n",
              "review_id        0\n",
              "review_score     0\n",
              "dtype: int64"
            ]
          },
          "metadata": {},
          "execution_count": 18
        }
      ]
    },
    {
      "cell_type": "code",
      "metadata": {
        "id": "7fa4yDC0zect"
      },
      "source": [
        "df3 = pd.merge(df4,df_orders,how='inner',on='order_id')"
      ],
      "execution_count": 19,
      "outputs": []
    },
    {
      "cell_type": "code",
      "metadata": {
        "colab": {
          "base_uri": "https://localhost:8080/",
          "height": 204
        },
        "id": "Io96NqU30mEh",
        "outputId": "13ca7e27-e572-46e7-825c-de9784717325"
      },
      "source": [
        "df3.head()"
      ],
      "execution_count": 20,
      "outputs": [
        {
          "output_type": "execute_result",
          "data": {
            "text/html": [
              "<div>\n",
              "<style scoped>\n",
              "    .dataframe tbody tr th:only-of-type {\n",
              "        vertical-align: middle;\n",
              "    }\n",
              "\n",
              "    .dataframe tbody tr th {\n",
              "        vertical-align: top;\n",
              "    }\n",
              "\n",
              "    .dataframe thead th {\n",
              "        text-align: right;\n",
              "    }\n",
              "</style>\n",
              "<table border=\"1\" class=\"dataframe\">\n",
              "  <thead>\n",
              "    <tr style=\"text-align: right;\">\n",
              "      <th></th>\n",
              "      <th>order_id</th>\n",
              "      <th>order_item_id</th>\n",
              "      <th>product_id</th>\n",
              "      <th>price</th>\n",
              "      <th>review_id</th>\n",
              "      <th>review_score</th>\n",
              "      <th>customer_id</th>\n",
              "      <th>order_status</th>\n",
              "    </tr>\n",
              "  </thead>\n",
              "  <tbody>\n",
              "    <tr>\n",
              "      <th>0</th>\n",
              "      <td>00010242fe8c5a6d1ba2dd792cb16214</td>\n",
              "      <td>1</td>\n",
              "      <td>4244733e06e7ecb4970a6e2683c13e61</td>\n",
              "      <td>58.90</td>\n",
              "      <td>97ca439bc427b48bc1cd7177abe71365</td>\n",
              "      <td>5</td>\n",
              "      <td>3ce436f183e68e07877b285a838db11a</td>\n",
              "      <td>delivered</td>\n",
              "    </tr>\n",
              "    <tr>\n",
              "      <th>1</th>\n",
              "      <td>00018f77f2f0320c557190d7a144bdd3</td>\n",
              "      <td>1</td>\n",
              "      <td>e5f2d52b802189ee658865ca93d83a8f</td>\n",
              "      <td>239.90</td>\n",
              "      <td>7b07bacd811c4117b742569b04ce3580</td>\n",
              "      <td>4</td>\n",
              "      <td>f6dd3ec061db4e3987629fe6b26e5cce</td>\n",
              "      <td>delivered</td>\n",
              "    </tr>\n",
              "    <tr>\n",
              "      <th>2</th>\n",
              "      <td>000229ec398224ef6ca0657da4fc703e</td>\n",
              "      <td>1</td>\n",
              "      <td>c777355d18b72b67abbeef9df44fd0fd</td>\n",
              "      <td>199.00</td>\n",
              "      <td>0c5b33dea94867d1ac402749e5438e8b</td>\n",
              "      <td>5</td>\n",
              "      <td>6489ae5e4333f3693df5ad4372dab6d3</td>\n",
              "      <td>delivered</td>\n",
              "    </tr>\n",
              "    <tr>\n",
              "      <th>3</th>\n",
              "      <td>00024acbcdf0a6daa1e931b038114c75</td>\n",
              "      <td>1</td>\n",
              "      <td>7634da152a4610f1595efa32f14722fc</td>\n",
              "      <td>12.99</td>\n",
              "      <td>f4028d019cb58564807486a6aaf33817</td>\n",
              "      <td>4</td>\n",
              "      <td>d4eb9395c8c0431ee92fce09860c5a06</td>\n",
              "      <td>delivered</td>\n",
              "    </tr>\n",
              "    <tr>\n",
              "      <th>4</th>\n",
              "      <td>00042b26cf59d7ce69dfabb4e55b4fd9</td>\n",
              "      <td>1</td>\n",
              "      <td>ac6c3623068f30de03045865e4e10089</td>\n",
              "      <td>199.90</td>\n",
              "      <td>940144190dcba6351888cafa43f3a3a5</td>\n",
              "      <td>5</td>\n",
              "      <td>58dbd0b2d70206bf40e62cd34e84d795</td>\n",
              "      <td>delivered</td>\n",
              "    </tr>\n",
              "  </tbody>\n",
              "</table>\n",
              "</div>"
            ],
            "text/plain": [
              "                           order_id  ...  order_status\n",
              "0  00010242fe8c5a6d1ba2dd792cb16214  ...     delivered\n",
              "1  00018f77f2f0320c557190d7a144bdd3  ...     delivered\n",
              "2  000229ec398224ef6ca0657da4fc703e  ...     delivered\n",
              "3  00024acbcdf0a6daa1e931b038114c75  ...     delivered\n",
              "4  00042b26cf59d7ce69dfabb4e55b4fd9  ...     delivered\n",
              "\n",
              "[5 rows x 8 columns]"
            ]
          },
          "metadata": {},
          "execution_count": 20
        }
      ]
    },
    {
      "cell_type": "markdown",
      "metadata": {
        "id": "VGlqeVArhhct"
      },
      "source": [
        "A seguir iremos unir com o dataset de produtos utilizando o ID do produto como chave"
      ]
    },
    {
      "cell_type": "code",
      "metadata": {
        "id": "YI-UOtdEYgD2"
      },
      "source": [
        "df2 = pd.merge(df3,df_products,how='inner',on='product_id')"
      ],
      "execution_count": 21,
      "outputs": []
    },
    {
      "cell_type": "code",
      "metadata": {
        "colab": {
          "base_uri": "https://localhost:8080/",
          "height": 224
        },
        "id": "jz9gCJm_YoNM",
        "outputId": "bf03aeee-a19b-448c-b27e-3644163a7836"
      },
      "source": [
        "df2.sample(5)"
      ],
      "execution_count": 22,
      "outputs": [
        {
          "output_type": "execute_result",
          "data": {
            "text/html": [
              "<div>\n",
              "<style scoped>\n",
              "    .dataframe tbody tr th:only-of-type {\n",
              "        vertical-align: middle;\n",
              "    }\n",
              "\n",
              "    .dataframe tbody tr th {\n",
              "        vertical-align: top;\n",
              "    }\n",
              "\n",
              "    .dataframe thead th {\n",
              "        text-align: right;\n",
              "    }\n",
              "</style>\n",
              "<table border=\"1\" class=\"dataframe\">\n",
              "  <thead>\n",
              "    <tr style=\"text-align: right;\">\n",
              "      <th></th>\n",
              "      <th>order_id</th>\n",
              "      <th>order_item_id</th>\n",
              "      <th>product_id</th>\n",
              "      <th>price</th>\n",
              "      <th>review_id</th>\n",
              "      <th>review_score</th>\n",
              "      <th>customer_id</th>\n",
              "      <th>order_status</th>\n",
              "      <th>product_category_name</th>\n",
              "      <th>product_name_lenght</th>\n",
              "      <th>product_description_lenght</th>\n",
              "      <th>product_weight_g</th>\n",
              "      <th>product_length_cm</th>\n",
              "      <th>product_height_cm</th>\n",
              "      <th>product_width_cm</th>\n",
              "    </tr>\n",
              "  </thead>\n",
              "  <tbody>\n",
              "    <tr>\n",
              "      <th>11706</th>\n",
              "      <td>c33af7b181d4da454737cbdb08450735</td>\n",
              "      <td>1</td>\n",
              "      <td>93c902b021a9e594f658ab1b0351602a</td>\n",
              "      <td>103.9</td>\n",
              "      <td>0adde70f9eee99e90bed92eb26c53ab9</td>\n",
              "      <td>5</td>\n",
              "      <td>f1b50ffada8a14977978bac3330283e0</td>\n",
              "      <td>delivered</td>\n",
              "      <td>eletronicos</td>\n",
              "      <td>60.0</td>\n",
              "      <td>390.0</td>\n",
              "      <td>1250.0</td>\n",
              "      <td>26.0</td>\n",
              "      <td>10.0</td>\n",
              "      <td>18.0</td>\n",
              "    </tr>\n",
              "    <tr>\n",
              "      <th>60606</th>\n",
              "      <td>acc957c82b00d1fb5b75a1f27a6d5a5c</td>\n",
              "      <td>1</td>\n",
              "      <td>b1f32fc9713cf8c0813fff7c9c8262b2</td>\n",
              "      <td>45.6</td>\n",
              "      <td>0d87f9a1ad53953dc4dbbfefdbe578a7</td>\n",
              "      <td>5</td>\n",
              "      <td>f0475449a5e7db1fdc4148ea907fda6f</td>\n",
              "      <td>delivered</td>\n",
              "      <td>informatica_acessorios</td>\n",
              "      <td>46.0</td>\n",
              "      <td>644.0</td>\n",
              "      <td>225.0</td>\n",
              "      <td>30.0</td>\n",
              "      <td>9.0</td>\n",
              "      <td>23.0</td>\n",
              "    </tr>\n",
              "    <tr>\n",
              "      <th>88049</th>\n",
              "      <td>58527ee4726911bee84a0f42cdd797c1</td>\n",
              "      <td>1</td>\n",
              "      <td>2b284ca976943311c427da3bba8f47ff</td>\n",
              "      <td>129.9</td>\n",
              "      <td>10bf378a2b493cc2734e2ceae80e689d</td>\n",
              "      <td>3</td>\n",
              "      <td>b7d68eb92ede54186f0385024c0481bf</td>\n",
              "      <td>delivered</td>\n",
              "      <td>esporte_lazer</td>\n",
              "      <td>47.0</td>\n",
              "      <td>524.0</td>\n",
              "      <td>750.0</td>\n",
              "      <td>23.0</td>\n",
              "      <td>28.0</td>\n",
              "      <td>38.0</td>\n",
              "    </tr>\n",
              "    <tr>\n",
              "      <th>106283</th>\n",
              "      <td>c2411b9c7822d227e3e48018405a0594</td>\n",
              "      <td>1</td>\n",
              "      <td>1a0f5bca5c36a68073930270bb47e314</td>\n",
              "      <td>1089.0</td>\n",
              "      <td>bddae947012d62dd70facc32a4742049</td>\n",
              "      <td>4</td>\n",
              "      <td>464ad1fa19f2a649e39193e5c98b8300</td>\n",
              "      <td>delivered</td>\n",
              "      <td>esporte_lazer</td>\n",
              "      <td>54.0</td>\n",
              "      <td>1403.0</td>\n",
              "      <td>15600.0</td>\n",
              "      <td>55.0</td>\n",
              "      <td>26.0</td>\n",
              "      <td>29.0</td>\n",
              "    </tr>\n",
              "    <tr>\n",
              "      <th>69998</th>\n",
              "      <td>284d9d5dfbec3d66bf57c38628892577</td>\n",
              "      <td>1</td>\n",
              "      <td>257726ef77c81150339893567c4de6cd</td>\n",
              "      <td>49.0</td>\n",
              "      <td>27452f1e860409227dedd1c07680f86a</td>\n",
              "      <td>5</td>\n",
              "      <td>7d831cbb1fb8d8d06cc4391b76869b64</td>\n",
              "      <td>delivered</td>\n",
              "      <td>moveis_decoracao</td>\n",
              "      <td>60.0</td>\n",
              "      <td>1969.0</td>\n",
              "      <td>400.0</td>\n",
              "      <td>69.0</td>\n",
              "      <td>11.0</td>\n",
              "      <td>11.0</td>\n",
              "    </tr>\n",
              "  </tbody>\n",
              "</table>\n",
              "</div>"
            ],
            "text/plain": [
              "                                order_id  ...  product_width_cm\n",
              "11706   c33af7b181d4da454737cbdb08450735  ...              18.0\n",
              "60606   acc957c82b00d1fb5b75a1f27a6d5a5c  ...              23.0\n",
              "88049   58527ee4726911bee84a0f42cdd797c1  ...              38.0\n",
              "106283  c2411b9c7822d227e3e48018405a0594  ...              29.0\n",
              "69998   284d9d5dfbec3d66bf57c38628892577  ...              11.0\n",
              "\n",
              "[5 rows x 15 columns]"
            ]
          },
          "metadata": {},
          "execution_count": 22
        }
      ]
    },
    {
      "cell_type": "markdown",
      "metadata": {
        "id": "V7vIlip8hoZb"
      },
      "source": [
        "Vamos utilizar como métrica as reviews dos usuários para criar um método de recomendação utilizando um filtro colaborativo com um fallback dos produtos mais bem avaliados. Por isso, iremos remover as colunas que tem as caractéristicas como tamanho do produto ou quantidade de letras utilizadas na descrição, pois não agregam para a recomendação"
      ]
    },
    {
      "cell_type": "code",
      "metadata": {
        "id": "atCxuSLM0oEC"
      },
      "source": [
        "df1 = df2.drop(columns=['order_id','order_item_id','price','review_id','order_status','product_name_lenght','product_description_lenght','product_weight_g','product_length_cm','product_height_cm','product_width_cm']).reindex(columns=['customer_id','product_id','product_category_name','review_score'])"
      ],
      "execution_count": 23,
      "outputs": []
    },
    {
      "cell_type": "code",
      "metadata": {
        "colab": {
          "base_uri": "https://localhost:8080/",
          "height": 359
        },
        "id": "sT9Tuxwq2Xpi",
        "outputId": "f35f7db1-3bba-4c55-bec7-a9ee4aefef84"
      },
      "source": [
        "df1.sample(10)"
      ],
      "execution_count": 24,
      "outputs": [
        {
          "output_type": "execute_result",
          "data": {
            "text/html": [
              "<div>\n",
              "<style scoped>\n",
              "    .dataframe tbody tr th:only-of-type {\n",
              "        vertical-align: middle;\n",
              "    }\n",
              "\n",
              "    .dataframe tbody tr th {\n",
              "        vertical-align: top;\n",
              "    }\n",
              "\n",
              "    .dataframe thead th {\n",
              "        text-align: right;\n",
              "    }\n",
              "</style>\n",
              "<table border=\"1\" class=\"dataframe\">\n",
              "  <thead>\n",
              "    <tr style=\"text-align: right;\">\n",
              "      <th></th>\n",
              "      <th>customer_id</th>\n",
              "      <th>product_id</th>\n",
              "      <th>product_category_name</th>\n",
              "      <th>review_score</th>\n",
              "    </tr>\n",
              "  </thead>\n",
              "  <tbody>\n",
              "    <tr>\n",
              "      <th>27427</th>\n",
              "      <td>1732351234779d12dcc355581d02d7b9</td>\n",
              "      <td>a9fb80187bf64d19dd2804f25e83c5e6</td>\n",
              "      <td>brinquedos</td>\n",
              "      <td>5</td>\n",
              "    </tr>\n",
              "    <tr>\n",
              "      <th>102233</th>\n",
              "      <td>fbbbf9c39662ec023c52d0169700b4d6</td>\n",
              "      <td>efa9bf5559d026b9872259f29b7304dc</td>\n",
              "      <td>utilidades_domesticas</td>\n",
              "      <td>3</td>\n",
              "    </tr>\n",
              "    <tr>\n",
              "      <th>62132</th>\n",
              "      <td>708761cac9260fe06a7ac1e921379700</td>\n",
              "      <td>fc5bf9e50dbfb45e7634bd8c045411c5</td>\n",
              "      <td>cool_stuff</td>\n",
              "      <td>1</td>\n",
              "    </tr>\n",
              "    <tr>\n",
              "      <th>86440</th>\n",
              "      <td>19164000c4f2f70911bb28eb4b20325a</td>\n",
              "      <td>fb98e86cfbfbff699907f0a84784d474</td>\n",
              "      <td>cama_mesa_banho</td>\n",
              "      <td>5</td>\n",
              "    </tr>\n",
              "    <tr>\n",
              "      <th>99735</th>\n",
              "      <td>b24e76ff960c3a5cf88ce8852d6e9fe8</td>\n",
              "      <td>d4a3a15f99c94c6741d16d3375b928e6</td>\n",
              "      <td>relogios_presentes</td>\n",
              "      <td>4</td>\n",
              "    </tr>\n",
              "    <tr>\n",
              "      <th>2016</th>\n",
              "      <td>af88f4b4935d45b8c2173518c445c249</td>\n",
              "      <td>fe077ec80df6b4ee60bb4498d5ab1962</td>\n",
              "      <td>informatica_acessorios</td>\n",
              "      <td>5</td>\n",
              "    </tr>\n",
              "    <tr>\n",
              "      <th>69032</th>\n",
              "      <td>d98edf3a73e942ed1ece36e5228783f5</td>\n",
              "      <td>8af72bbf3875865c7fc23509cf49682e</td>\n",
              "      <td>brinquedos</td>\n",
              "      <td>4</td>\n",
              "    </tr>\n",
              "    <tr>\n",
              "      <th>82854</th>\n",
              "      <td>2967800a1e6a657df2f13ef37b65c9ba</td>\n",
              "      <td>f713c90e84b1bf2e157637d63fe09a68</td>\n",
              "      <td>cool_stuff</td>\n",
              "      <td>4</td>\n",
              "    </tr>\n",
              "    <tr>\n",
              "      <th>7154</th>\n",
              "      <td>7456113cce8651aa1338725882c6a353</td>\n",
              "      <td>78efe838c04bbc568be034082200ac20</td>\n",
              "      <td>moveis_decoracao</td>\n",
              "      <td>5</td>\n",
              "    </tr>\n",
              "    <tr>\n",
              "      <th>65682</th>\n",
              "      <td>135ed82d00d601dd15e861f2bf1deb93</td>\n",
              "      <td>5f0a49e6e539d4e186eeddfd69db9863</td>\n",
              "      <td>agro_industria_e_comercio</td>\n",
              "      <td>5</td>\n",
              "    </tr>\n",
              "  </tbody>\n",
              "</table>\n",
              "</div>"
            ],
            "text/plain": [
              "                             customer_id  ... review_score\n",
              "27427   1732351234779d12dcc355581d02d7b9  ...            5\n",
              "102233  fbbbf9c39662ec023c52d0169700b4d6  ...            3\n",
              "62132   708761cac9260fe06a7ac1e921379700  ...            1\n",
              "86440   19164000c4f2f70911bb28eb4b20325a  ...            5\n",
              "99735   b24e76ff960c3a5cf88ce8852d6e9fe8  ...            4\n",
              "2016    af88f4b4935d45b8c2173518c445c249  ...            5\n",
              "69032   d98edf3a73e942ed1ece36e5228783f5  ...            4\n",
              "82854   2967800a1e6a657df2f13ef37b65c9ba  ...            4\n",
              "7154    7456113cce8651aa1338725882c6a353  ...            5\n",
              "65682   135ed82d00d601dd15e861f2bf1deb93  ...            5\n",
              "\n",
              "[10 rows x 4 columns]"
            ]
          },
          "metadata": {},
          "execution_count": 24
        }
      ]
    },
    {
      "cell_type": "code",
      "metadata": {
        "colab": {
          "base_uri": "https://localhost:8080/"
        },
        "id": "V7DNE44l2VRX",
        "outputId": "ae2e3270-27fe-4c11-cfec-6910c0ff3dc6"
      },
      "source": [
        "df1.shape"
      ],
      "execution_count": 25,
      "outputs": [
        {
          "output_type": "execute_result",
          "data": {
            "text/plain": [
              "(112372, 4)"
            ]
          },
          "metadata": {},
          "execution_count": 25
        }
      ]
    },
    {
      "cell_type": "markdown",
      "metadata": {
        "id": "1JlwZLgAipUb"
      },
      "source": [
        "Abaixo é realizado um tratamento de nulos de produtos sem categoria"
      ]
    },
    {
      "cell_type": "code",
      "metadata": {
        "colab": {
          "base_uri": "https://localhost:8080/"
        },
        "id": "2ktIebEh2dYz",
        "outputId": "3e646b1e-62f2-4934-8510-e1cd89e3ef4b"
      },
      "source": [
        "df1.isnull().sum()"
      ],
      "execution_count": 26,
      "outputs": [
        {
          "output_type": "execute_result",
          "data": {
            "text/plain": [
              "customer_id                 0\n",
              "product_id                  0\n",
              "product_category_name    1598\n",
              "review_score                0\n",
              "dtype: int64"
            ]
          },
          "metadata": {},
          "execution_count": 26
        }
      ]
    },
    {
      "cell_type": "code",
      "metadata": {
        "id": "ARJ91wEBZYWD"
      },
      "source": [
        "df1 = df1.dropna()"
      ],
      "execution_count": 27,
      "outputs": []
    },
    {
      "cell_type": "code",
      "metadata": {
        "colab": {
          "base_uri": "https://localhost:8080/",
          "height": 204
        },
        "id": "xvR41jJEZdAQ",
        "outputId": "2259379a-603a-49c7-fdb8-89bd56206437"
      },
      "source": [
        "df1.sample(5)"
      ],
      "execution_count": 28,
      "outputs": [
        {
          "output_type": "execute_result",
          "data": {
            "text/html": [
              "<div>\n",
              "<style scoped>\n",
              "    .dataframe tbody tr th:only-of-type {\n",
              "        vertical-align: middle;\n",
              "    }\n",
              "\n",
              "    .dataframe tbody tr th {\n",
              "        vertical-align: top;\n",
              "    }\n",
              "\n",
              "    .dataframe thead th {\n",
              "        text-align: right;\n",
              "    }\n",
              "</style>\n",
              "<table border=\"1\" class=\"dataframe\">\n",
              "  <thead>\n",
              "    <tr style=\"text-align: right;\">\n",
              "      <th></th>\n",
              "      <th>customer_id</th>\n",
              "      <th>product_id</th>\n",
              "      <th>product_category_name</th>\n",
              "      <th>review_score</th>\n",
              "    </tr>\n",
              "  </thead>\n",
              "  <tbody>\n",
              "    <tr>\n",
              "      <th>20152</th>\n",
              "      <td>9bca1f1ee89cfc3207037cc520ac5978</td>\n",
              "      <td>4413a608a42bd21bbf9d5abbd58c249a</td>\n",
              "      <td>cool_stuff</td>\n",
              "      <td>3</td>\n",
              "    </tr>\n",
              "    <tr>\n",
              "      <th>49395</th>\n",
              "      <td>0be39985ec47a13a76f780957f516a6c</td>\n",
              "      <td>151133751552ad5bdd6645dfdcb0e728</td>\n",
              "      <td>cama_mesa_banho</td>\n",
              "      <td>1</td>\n",
              "    </tr>\n",
              "    <tr>\n",
              "      <th>56670</th>\n",
              "      <td>1596f3450e07b5743263cf514cb9c829</td>\n",
              "      <td>78018501054dd80dc909eee2f22ddbd4</td>\n",
              "      <td>cool_stuff</td>\n",
              "      <td>4</td>\n",
              "    </tr>\n",
              "    <tr>\n",
              "      <th>91418</th>\n",
              "      <td>642f858f2d65c052cfa9058e21181a88</td>\n",
              "      <td>be958064244f19bf11ee270b2feca7a2</td>\n",
              "      <td>moveis_decoracao</td>\n",
              "      <td>4</td>\n",
              "    </tr>\n",
              "    <tr>\n",
              "      <th>70159</th>\n",
              "      <td>f3dc55ecb71ebe4066a6efc57c6593b3</td>\n",
              "      <td>f9b4f8ef12259efd919fbaf21f8f66a4</td>\n",
              "      <td>cama_mesa_banho</td>\n",
              "      <td>5</td>\n",
              "    </tr>\n",
              "  </tbody>\n",
              "</table>\n",
              "</div>"
            ],
            "text/plain": [
              "                            customer_id  ... review_score\n",
              "20152  9bca1f1ee89cfc3207037cc520ac5978  ...            3\n",
              "49395  0be39985ec47a13a76f780957f516a6c  ...            1\n",
              "56670  1596f3450e07b5743263cf514cb9c829  ...            4\n",
              "91418  642f858f2d65c052cfa9058e21181a88  ...            4\n",
              "70159  f3dc55ecb71ebe4066a6efc57c6593b3  ...            5\n",
              "\n",
              "[5 rows x 4 columns]"
            ]
          },
          "metadata": {},
          "execution_count": 28
        }
      ]
    },
    {
      "cell_type": "markdown",
      "metadata": {
        "id": "6LKG7Iu3Zgzf"
      },
      "source": [
        "Supondo que o usuário entre na categoria \"cama_mesa_banho\" da plataforma de e-commerce, vamos criar uma matriz de recomendação que retorne itens somente dessa categoria, removendo as demais"
      ]
    },
    {
      "cell_type": "code",
      "metadata": {
        "id": "RYDNk53_Zggg"
      },
      "source": [
        "df = df1[df1['product_category_name']=='cama_mesa_banho'].drop(columns='product_category_name')"
      ],
      "execution_count": 29,
      "outputs": []
    },
    {
      "cell_type": "code",
      "metadata": {
        "colab": {
          "base_uri": "https://localhost:8080/",
          "height": 204
        },
        "id": "PZwitzEdasW4",
        "outputId": "f9999453-8699-4212-be44-e3754106fdae"
      },
      "source": [
        "df.sample(5)"
      ],
      "execution_count": 30,
      "outputs": [
        {
          "output_type": "execute_result",
          "data": {
            "text/html": [
              "<div>\n",
              "<style scoped>\n",
              "    .dataframe tbody tr th:only-of-type {\n",
              "        vertical-align: middle;\n",
              "    }\n",
              "\n",
              "    .dataframe tbody tr th {\n",
              "        vertical-align: top;\n",
              "    }\n",
              "\n",
              "    .dataframe thead th {\n",
              "        text-align: right;\n",
              "    }\n",
              "</style>\n",
              "<table border=\"1\" class=\"dataframe\">\n",
              "  <thead>\n",
              "    <tr style=\"text-align: right;\">\n",
              "      <th></th>\n",
              "      <th>customer_id</th>\n",
              "      <th>product_id</th>\n",
              "      <th>review_score</th>\n",
              "    </tr>\n",
              "  </thead>\n",
              "  <tbody>\n",
              "    <tr>\n",
              "      <th>81747</th>\n",
              "      <td>3baded4af7acec322d1c4eb8b405a0b4</td>\n",
              "      <td>a3fd6c4ecde9035c3e8dd4e0fd8b8048</td>\n",
              "      <td>5</td>\n",
              "    </tr>\n",
              "    <tr>\n",
              "      <th>85088</th>\n",
              "      <td>deba7800cadd368aa9a7fb477f78864e</td>\n",
              "      <td>872c150bc3167f3a4fd9214f82931358</td>\n",
              "      <td>5</td>\n",
              "    </tr>\n",
              "    <tr>\n",
              "      <th>89418</th>\n",
              "      <td>158195ad490cea5aee2cd7e3e85fa3b4</td>\n",
              "      <td>4ee931ba1980085a969d498d63e69f72</td>\n",
              "      <td>5</td>\n",
              "    </tr>\n",
              "    <tr>\n",
              "      <th>110070</th>\n",
              "      <td>91b3ab92e7279abc4955341318de42f2</td>\n",
              "      <td>387f1559343d513c4383bdb99672e431</td>\n",
              "      <td>1</td>\n",
              "    </tr>\n",
              "    <tr>\n",
              "      <th>74213</th>\n",
              "      <td>9582b93f8a5b04336d13454b876e72ba</td>\n",
              "      <td>b570f2a8228eeaa87e224f25264576b5</td>\n",
              "      <td>1</td>\n",
              "    </tr>\n",
              "  </tbody>\n",
              "</table>\n",
              "</div>"
            ],
            "text/plain": [
              "                             customer_id  ... review_score\n",
              "81747   3baded4af7acec322d1c4eb8b405a0b4  ...            5\n",
              "85088   deba7800cadd368aa9a7fb477f78864e  ...            5\n",
              "89418   158195ad490cea5aee2cd7e3e85fa3b4  ...            5\n",
              "110070  91b3ab92e7279abc4955341318de42f2  ...            1\n",
              "74213   9582b93f8a5b04336d13454b876e72ba  ...            1\n",
              "\n",
              "[5 rows x 3 columns]"
            ]
          },
          "metadata": {},
          "execution_count": 30
        }
      ]
    },
    {
      "cell_type": "code",
      "metadata": {
        "colab": {
          "base_uri": "https://localhost:8080/"
        },
        "id": "3rMAbyNOm5nJ",
        "outputId": "f6292429-0d67-425d-cc96-254176c7f42e"
      },
      "source": [
        "df.shape"
      ],
      "execution_count": 31,
      "outputs": [
        {
          "output_type": "execute_result",
          "data": {
            "text/plain": [
              "(11137, 3)"
            ]
          },
          "metadata": {},
          "execution_count": 31
        }
      ]
    },
    {
      "cell_type": "code",
      "metadata": {
        "colab": {
          "base_uri": "https://localhost:8080/"
        },
        "id": "dI48qrgam9kc",
        "outputId": "54ec12a8-91fc-498f-e28b-a119e787c0d4"
      },
      "source": [
        "df['product_id'].value_counts()"
      ],
      "execution_count": 32,
      "outputs": [
        {
          "output_type": "execute_result",
          "data": {
            "text/plain": [
              "99a4788cb24856965c36a24e339b6058    482\n",
              "f1c7f353075ce59d8a6f3cf58f419c9c    152\n",
              "06edb72f1e0c64b14c5b79353f7abea3    146\n",
              "ec2d43cc59763ec91694573b31f1c29a    130\n",
              "84f456958365164420cfc80fbe4c7fab    107\n",
              "                                   ... \n",
              "baf59a3a8f15ea34f04394f44bad573a      1\n",
              "a54f6200fb09c904053b05461c2e91f8      1\n",
              "334f9a7bc70ecefea3a1fc7dd1c7ec76      1\n",
              "9f6b6b828b980352cbd59ff7a03a7277      1\n",
              "48ef156012e010507e2e96a9ef9e79f0      1\n",
              "Name: product_id, Length: 3009, dtype: int64"
            ]
          },
          "metadata": {},
          "execution_count": 32
        }
      ]
    },
    {
      "cell_type": "code",
      "metadata": {
        "colab": {
          "base_uri": "https://localhost:8080/"
        },
        "id": "jTJr_AKinBuD",
        "outputId": "a199cb51-d0e8-4868-8f6b-50ce4605408c"
      },
      "source": [
        "df.dtypes"
      ],
      "execution_count": 33,
      "outputs": [
        {
          "output_type": "execute_result",
          "data": {
            "text/plain": [
              "customer_id     object\n",
              "product_id      object\n",
              "review_score     int64\n",
              "dtype: object"
            ]
          },
          "metadata": {},
          "execution_count": 33
        }
      ]
    },
    {
      "cell_type": "markdown",
      "metadata": {
        "id": "z_X4FNYcjAy0"
      },
      "source": [
        "Esse é o dataset que servirá de base para o modelo de recomendação"
      ]
    },
    {
      "cell_type": "markdown",
      "metadata": {
        "id": "iqQNl85p3_Fk"
      },
      "source": [
        "#4. Modelo de recomendação"
      ]
    },
    {
      "cell_type": "markdown",
      "metadata": {
        "id": "NdGSVbr5gfLD"
      },
      "source": [
        "##4.1 Matriz de recomendação"
      ]
    },
    {
      "cell_type": "markdown",
      "metadata": {
        "id": "CzoP0dfvjIj7"
      },
      "source": [
        "Implementando um grupo de funções para realizar um agrupamento de produtos por contagem, um agrupamento dos produtos pela média de reviews e a seleção dos n melhores produtos"
      ]
    },
    {
      "cell_type": "code",
      "metadata": {
        "id": "Oz_4r1gs3qLR"
      },
      "source": [
        "def start_pipeline(dataf):\n",
        "    return dataf.copy()\n",
        "\n",
        "def get_product_counts(dataf):\n",
        "  return dataf.groupby(by='product_id', as_index=False) \\\n",
        "    .agg({'customer_id': pd.Series.nunique}) \\\n",
        "    .rename(columns={'customer_id': 'customer_id_count'}) \\\n",
        "    .set_index('product_id') \\\n",
        "    .sort_values('customer_id_count', ascending = False)\n",
        "\n",
        "def get_avg_ratings(dataf):\n",
        "  return dataf.groupby(by='product_id', as_index=False) \\\n",
        "    .agg({'review_score': np.mean}) \\\n",
        "    .rename(columns={'review_score': 'review_score_avg'}) \\\n",
        "    .set_index('product_id') \\\n",
        "    .sort_values('review_score_avg', ascending = False)\n",
        "\n",
        "def get_n_top_values(dataf, n):\n",
        "  return dataf.head(n) \\\n",
        "    .index \\\n",
        "    .tolist()\n",
        "\n",
        "top_product_ratings = df.pipe(start_pipeline).pipe(get_avg_ratings).pipe(get_n_top_values, n=1000) #o n irá determinar o tamanho da matriz de relacionamento\n",
        "\n",
        "top_product_sellers = df.pipe(start_pipeline).pipe(get_product_counts).pipe(get_n_top_values, n=10)"
      ],
      "execution_count": 34,
      "outputs": []
    },
    {
      "cell_type": "code",
      "metadata": {
        "colab": {
          "base_uri": "https://localhost:8080/"
        },
        "id": "-qjQWs-56Ub7",
        "outputId": "16505866-6171-4930-c93f-c1cecfa59160"
      },
      "source": [
        "top_product_ratings[:10], top_product_sellers"
      ],
      "execution_count": 35,
      "outputs": [
        {
          "output_type": "execute_result",
          "data": {
            "text/plain": [
              "(['7e8a5e8789ede63ab600b65235e35fa6',\n",
              "  '7bb73fff8e232153ed20fef83e34e84c',\n",
              "  '7b7867b1566350578959e705c5a46b2f',\n",
              "  '7b564d6b4c926ddf0a111006209e1088',\n",
              "  '7b1f55eb9b85b0aa6b1d4c16108eac61',\n",
              "  '7b07f25dab76a821beca96d40ee0553e',\n",
              "  '7ad1208884270048a2176ff437f49a9b',\n",
              "  '7aac56e58e89831fecb41998f93049ea',\n",
              "  '7a6750f9cb558b9fc79dbfa0d121a589',\n",
              "  '79e193444d3b3ba2e2f28d0e0f9bd97a'],\n",
              " ['99a4788cb24856965c36a24e339b6058',\n",
              "  'f1c7f353075ce59d8a6f3cf58f419c9c',\n",
              "  '06edb72f1e0c64b14c5b79353f7abea3',\n",
              "  'ec2d43cc59763ec91694573b31f1c29a',\n",
              "  '84f456958365164420cfc80fbe4c7fab',\n",
              "  '777d2e438a1b645f3aec9bd57e92672c',\n",
              "  '363218ba55c610b750224f90bdd34be1',\n",
              "  '64fb265487de2238627ce43fe8a67efc',\n",
              "  '2a2d22ae30e026f1893083c8405ca522',\n",
              "  'bd6e6fce9ada76ea2db0f1912e8e478f'])"
            ]
          },
          "metadata": {},
          "execution_count": 35
        }
      ]
    },
    {
      "cell_type": "code",
      "metadata": {
        "colab": {
          "base_uri": "https://localhost:8080/",
          "height": 450
        },
        "id": "wMk0Jgyv6frx",
        "outputId": "548baa69-ae02-4b8c-b87d-6d52f3f8c3ea"
      },
      "source": [
        "df.pipe(start_pipeline).pipe(get_avg_ratings)"
      ],
      "execution_count": 36,
      "outputs": [
        {
          "output_type": "execute_result",
          "data": {
            "text/html": [
              "<div>\n",
              "<style scoped>\n",
              "    .dataframe tbody tr th:only-of-type {\n",
              "        vertical-align: middle;\n",
              "    }\n",
              "\n",
              "    .dataframe tbody tr th {\n",
              "        vertical-align: top;\n",
              "    }\n",
              "\n",
              "    .dataframe thead th {\n",
              "        text-align: right;\n",
              "    }\n",
              "</style>\n",
              "<table border=\"1\" class=\"dataframe\">\n",
              "  <thead>\n",
              "    <tr style=\"text-align: right;\">\n",
              "      <th></th>\n",
              "      <th>review_score_avg</th>\n",
              "    </tr>\n",
              "    <tr>\n",
              "      <th>product_id</th>\n",
              "      <th></th>\n",
              "    </tr>\n",
              "  </thead>\n",
              "  <tbody>\n",
              "    <tr>\n",
              "      <th>7e8a5e8789ede63ab600b65235e35fa6</th>\n",
              "      <td>5.0</td>\n",
              "    </tr>\n",
              "    <tr>\n",
              "      <th>7bb73fff8e232153ed20fef83e34e84c</th>\n",
              "      <td>5.0</td>\n",
              "    </tr>\n",
              "    <tr>\n",
              "      <th>7b7867b1566350578959e705c5a46b2f</th>\n",
              "      <td>5.0</td>\n",
              "    </tr>\n",
              "    <tr>\n",
              "      <th>7b564d6b4c926ddf0a111006209e1088</th>\n",
              "      <td>5.0</td>\n",
              "    </tr>\n",
              "    <tr>\n",
              "      <th>7b1f55eb9b85b0aa6b1d4c16108eac61</th>\n",
              "      <td>5.0</td>\n",
              "    </tr>\n",
              "    <tr>\n",
              "      <th>...</th>\n",
              "      <td>...</td>\n",
              "    </tr>\n",
              "    <tr>\n",
              "      <th>9f4a55260fae788c26fcbb2b934ffa52</th>\n",
              "      <td>1.0</td>\n",
              "    </tr>\n",
              "    <tr>\n",
              "      <th>9f683084a0b0211109fef6e538cb4767</th>\n",
              "      <td>1.0</td>\n",
              "    </tr>\n",
              "    <tr>\n",
              "      <th>86304b9e4529f2686bc91f37c6392801</th>\n",
              "      <td>1.0</td>\n",
              "    </tr>\n",
              "    <tr>\n",
              "      <th>2b3ded25b94fa59143322115fce48003</th>\n",
              "      <td>1.0</td>\n",
              "    </tr>\n",
              "    <tr>\n",
              "      <th>0009406fd7479715e4bef61dd91f2462</th>\n",
              "      <td>1.0</td>\n",
              "    </tr>\n",
              "  </tbody>\n",
              "</table>\n",
              "<p>3009 rows × 1 columns</p>\n",
              "</div>"
            ],
            "text/plain": [
              "                                  review_score_avg\n",
              "product_id                                        \n",
              "7e8a5e8789ede63ab600b65235e35fa6               5.0\n",
              "7bb73fff8e232153ed20fef83e34e84c               5.0\n",
              "7b7867b1566350578959e705c5a46b2f               5.0\n",
              "7b564d6b4c926ddf0a111006209e1088               5.0\n",
              "7b1f55eb9b85b0aa6b1d4c16108eac61               5.0\n",
              "...                                            ...\n",
              "9f4a55260fae788c26fcbb2b934ffa52               1.0\n",
              "9f683084a0b0211109fef6e538cb4767               1.0\n",
              "86304b9e4529f2686bc91f37c6392801               1.0\n",
              "2b3ded25b94fa59143322115fce48003               1.0\n",
              "0009406fd7479715e4bef61dd91f2462               1.0\n",
              "\n",
              "[3009 rows x 1 columns]"
            ]
          },
          "metadata": {},
          "execution_count": 36
        }
      ]
    },
    {
      "cell_type": "markdown",
      "metadata": {
        "id": "cyHOvnrFj5TR"
      },
      "source": [
        "Criando a matriz relacionando produtos com usuários"
      ]
    },
    {
      "cell_type": "code",
      "metadata": {
        "colab": {
          "base_uri": "https://localhost:8080/"
        },
        "id": "NkSba0tH7D2L",
        "outputId": "95ea99e1-53ed-4949-d062-4dee55063a75"
      },
      "source": [
        "matriz_de_relacionamento = df[df[\"product_id\"].isin(top_product_ratings)].pivot_table(index='product_id', columns='customer_id', values='review_score').fillna(0)\n",
        "\n",
        "matriz_de_relacionamento.shape"
      ],
      "execution_count": 37,
      "outputs": [
        {
          "output_type": "execute_result",
          "data": {
            "text/plain": [
              "(1000, 1203)"
            ]
          },
          "metadata": {},
          "execution_count": 37
        }
      ]
    },
    {
      "cell_type": "code",
      "metadata": {
        "colab": {
          "base_uri": "https://localhost:8080/",
          "height": 284
        },
        "id": "dcFlUCMbO2QX",
        "outputId": "d20907cf-6af0-4776-8a09-d29096be767d"
      },
      "source": [
        "matriz_de_relacionamento.sample(5)"
      ],
      "execution_count": 38,
      "outputs": [
        {
          "output_type": "execute_result",
          "data": {
            "text/html": [
              "<div>\n",
              "<style scoped>\n",
              "    .dataframe tbody tr th:only-of-type {\n",
              "        vertical-align: middle;\n",
              "    }\n",
              "\n",
              "    .dataframe tbody tr th {\n",
              "        vertical-align: top;\n",
              "    }\n",
              "\n",
              "    .dataframe thead th {\n",
              "        text-align: right;\n",
              "    }\n",
              "</style>\n",
              "<table border=\"1\" class=\"dataframe\">\n",
              "  <thead>\n",
              "    <tr style=\"text-align: right;\">\n",
              "      <th>customer_id</th>\n",
              "      <th>00674fe0f6a6f190bd022dbca99795dc</th>\n",
              "      <th>00e4dd8d5ecaa00de8c6671679b58045</th>\n",
              "      <th>0125bee4b30f40607261d06f47b0f38d</th>\n",
              "      <th>0130b37ed963c4a595792582025bdcb0</th>\n",
              "      <th>0155478730861c69019d0a41d9bc98f6</th>\n",
              "      <th>01f122c4617c17afeba8f9bf49babfbc</th>\n",
              "      <th>0222b08d0816bba0acbcc31ba1d6cc1a</th>\n",
              "      <th>02d12adf94e256f7ff0056d447557027</th>\n",
              "      <th>02e04e4adf1a4ec2e262f8f942b4b315</th>\n",
              "      <th>02e0c77c1d6bd78e21d61a7c7b818af9</th>\n",
              "      <th>02f0bc4b5ee293031637b7e8d75a5484</th>\n",
              "      <th>0303e5527d4342ac7939d2bfc0f9f9e2</th>\n",
              "      <th>0308c8188ffa174ae335cf15234bef98</th>\n",
              "      <th>0311e8645872f2e940fcdbd0373e8ef3</th>\n",
              "      <th>0320b57550ef2aea72c685cc12c09ecd</th>\n",
              "      <th>032dc4140d9a51a0febc693a96a44489</th>\n",
              "      <th>032f5eb3f82038a0490fd6870bf131dd</th>\n",
              "      <th>03a94d235a422b784953fdbad346162e</th>\n",
              "      <th>03f2849096ae58cf4ef032d9a4bd72a0</th>\n",
              "      <th>045113dd9def11da63eed78d7bd66571</th>\n",
              "      <th>0499e8d702425ef8b10da2172f9fec96</th>\n",
              "      <th>04a80904d68808014ce304276a945dc2</th>\n",
              "      <th>04ebc2712225141ac34d1ba5ebee0629</th>\n",
              "      <th>0502d707915775b984e0976f86be4e70</th>\n",
              "      <th>0554357bede8e7adab8e4d3a88652483</th>\n",
              "      <th>05c9c8bee01dca6e97b35284f55a6a34</th>\n",
              "      <th>05e53f1437a94e4fa5dbef5eb5c0fcff</th>\n",
              "      <th>05ebc27279c0c9082b56bbd6a1441a4b</th>\n",
              "      <th>05fe48df6ea41f403217b5cb88126ce0</th>\n",
              "      <th>060d1aa4818f0382d6a4cd5549e63dc4</th>\n",
              "      <th>06a70917afd2dcd59396e1eac836c646</th>\n",
              "      <th>06c760a59b5508e58bb333d3bac7afc9</th>\n",
              "      <th>06d99479baac3413561b21bd7ac27767</th>\n",
              "      <th>06e30ee84a0678d353928f7306faac30</th>\n",
              "      <th>0712358f39f7ee528dd7930c5e43b4db</th>\n",
              "      <th>07396c453f4681f7be214112539b29b8</th>\n",
              "      <th>073d9752205a02fe743263d3d781cce1</th>\n",
              "      <th>0787afe87fbc7be9114a66325d1a5481</th>\n",
              "      <th>078a3d6f31fa48e82be1142201dc5fc3</th>\n",
              "      <th>07bb78d58680e12babcfcb21476f9e14</th>\n",
              "      <th>...</th>\n",
              "      <th>f5d8a545323f03c74139eb656ad7c355</th>\n",
              "      <th>f5fb123023cbd4acdc614393621b6f86</th>\n",
              "      <th>f60343ab919f4c92c6684d9fff0ed1ee</th>\n",
              "      <th>f632ad5299fd1a88f9aed3c617d761d0</th>\n",
              "      <th>f66f2668857fa2ede0a1d2147fe10bde</th>\n",
              "      <th>f6af2b95b6be76fe88673d0a62a7db2f</th>\n",
              "      <th>f6c2d6d91ed17d749ad0a5ffd23f710e</th>\n",
              "      <th>f6e6c22f0f45f1e57d6eb674bc6fdb3b</th>\n",
              "      <th>f6f76301950a9f0c4099483fa35b0292</th>\n",
              "      <th>f718a2c31336e1bd948bf62c2424ff62</th>\n",
              "      <th>f72224709e8bef3430441583b08a2d64</th>\n",
              "      <th>f777873517b1bf70c51a2950e513acf6</th>\n",
              "      <th>f7ca9d963c6dcc2b5c4b93006b6abe90</th>\n",
              "      <th>f80fc8c638c8616af8789ae5e751ff13</th>\n",
              "      <th>f8e2c69fceb19e32d3bf44633ef40f5f</th>\n",
              "      <th>f9055270b5abc752526d3bb0a5a68cc3</th>\n",
              "      <th>f97b46627a4e56ccc5f4026cdab2b60f</th>\n",
              "      <th>f99b5ad76ac1085ae3628a3dc0eff0af</th>\n",
              "      <th>f9dfd7942a2d7f1588b7638a9bdc8ff1</th>\n",
              "      <th>fa3e77981c620b52d92ee2d390543f63</th>\n",
              "      <th>fa8a4bda569c794150f39cda0dfe0734</th>\n",
              "      <th>fad867ccc296df4399f09533c10bb693</th>\n",
              "      <th>fb7481b0cc9f7ef408c625a696cf3e51</th>\n",
              "      <th>fc081ae245389c9660e0fdc15c33a804</th>\n",
              "      <th>fc4476d400c4b3bf7e64456fb82626fb</th>\n",
              "      <th>fc72a2bc404989848c8afa35fab9accc</th>\n",
              "      <th>fc821401a1841453aef1515d55b09399</th>\n",
              "      <th>fd1113e9d9cf81c3b1e1704b6ae6286b</th>\n",
              "      <th>fd2ae8c714a773f85ef1b53fbebeda1f</th>\n",
              "      <th>fdea9d678bf2979af34b835a4349b904</th>\n",
              "      <th>fe082a45e6e64db9443e39ef7e3d415a</th>\n",
              "      <th>fe0d2c3b6048199a658d47a9c023d81f</th>\n",
              "      <th>fe20e5d9ad97fe0bf421a94b7a17da6f</th>\n",
              "      <th>fe3fe44146243711a4f5eabc7e65b6dc</th>\n",
              "      <th>feac61f9b2103facafb08f447664c598</th>\n",
              "      <th>febc8698a75e85a4ddf0e78926c1119c</th>\n",
              "      <th>fef445423df985e112e1b8b357f1cbee</th>\n",
              "      <th>ff73066003e6e0aa6ce3739d60a1ff24</th>\n",
              "      <th>ffa9419903b6e1ed6f0692ab2695de94</th>\n",
              "      <th>ffd294eea523f67ee8c743d3a904ee20</th>\n",
              "    </tr>\n",
              "    <tr>\n",
              "      <th>product_id</th>\n",
              "      <th></th>\n",
              "      <th></th>\n",
              "      <th></th>\n",
              "      <th></th>\n",
              "      <th></th>\n",
              "      <th></th>\n",
              "      <th></th>\n",
              "      <th></th>\n",
              "      <th></th>\n",
              "      <th></th>\n",
              "      <th></th>\n",
              "      <th></th>\n",
              "      <th></th>\n",
              "      <th></th>\n",
              "      <th></th>\n",
              "      <th></th>\n",
              "      <th></th>\n",
              "      <th></th>\n",
              "      <th></th>\n",
              "      <th></th>\n",
              "      <th></th>\n",
              "      <th></th>\n",
              "      <th></th>\n",
              "      <th></th>\n",
              "      <th></th>\n",
              "      <th></th>\n",
              "      <th></th>\n",
              "      <th></th>\n",
              "      <th></th>\n",
              "      <th></th>\n",
              "      <th></th>\n",
              "      <th></th>\n",
              "      <th></th>\n",
              "      <th></th>\n",
              "      <th></th>\n",
              "      <th></th>\n",
              "      <th></th>\n",
              "      <th></th>\n",
              "      <th></th>\n",
              "      <th></th>\n",
              "      <th></th>\n",
              "      <th></th>\n",
              "      <th></th>\n",
              "      <th></th>\n",
              "      <th></th>\n",
              "      <th></th>\n",
              "      <th></th>\n",
              "      <th></th>\n",
              "      <th></th>\n",
              "      <th></th>\n",
              "      <th></th>\n",
              "      <th></th>\n",
              "      <th></th>\n",
              "      <th></th>\n",
              "      <th></th>\n",
              "      <th></th>\n",
              "      <th></th>\n",
              "      <th></th>\n",
              "      <th></th>\n",
              "      <th></th>\n",
              "      <th></th>\n",
              "      <th></th>\n",
              "      <th></th>\n",
              "      <th></th>\n",
              "      <th></th>\n",
              "      <th></th>\n",
              "      <th></th>\n",
              "      <th></th>\n",
              "      <th></th>\n",
              "      <th></th>\n",
              "      <th></th>\n",
              "      <th></th>\n",
              "      <th></th>\n",
              "      <th></th>\n",
              "      <th></th>\n",
              "      <th></th>\n",
              "      <th></th>\n",
              "      <th></th>\n",
              "      <th></th>\n",
              "      <th></th>\n",
              "      <th></th>\n",
              "    </tr>\n",
              "  </thead>\n",
              "  <tbody>\n",
              "    <tr>\n",
              "      <th>062907032db5e0c065bab136233a9544</th>\n",
              "      <td>0.0</td>\n",
              "      <td>0.0</td>\n",
              "      <td>0.0</td>\n",
              "      <td>0.0</td>\n",
              "      <td>0.0</td>\n",
              "      <td>0.0</td>\n",
              "      <td>0.0</td>\n",
              "      <td>0.0</td>\n",
              "      <td>0.0</td>\n",
              "      <td>0.0</td>\n",
              "      <td>0.0</td>\n",
              "      <td>0.0</td>\n",
              "      <td>0.0</td>\n",
              "      <td>0.0</td>\n",
              "      <td>0.0</td>\n",
              "      <td>0.0</td>\n",
              "      <td>0.0</td>\n",
              "      <td>0.0</td>\n",
              "      <td>0.0</td>\n",
              "      <td>0.0</td>\n",
              "      <td>0.0</td>\n",
              "      <td>0.0</td>\n",
              "      <td>0.0</td>\n",
              "      <td>0.0</td>\n",
              "      <td>0.0</td>\n",
              "      <td>0.0</td>\n",
              "      <td>0.0</td>\n",
              "      <td>0.0</td>\n",
              "      <td>0.0</td>\n",
              "      <td>0.0</td>\n",
              "      <td>0.0</td>\n",
              "      <td>0.0</td>\n",
              "      <td>0.0</td>\n",
              "      <td>0.0</td>\n",
              "      <td>0.0</td>\n",
              "      <td>0.0</td>\n",
              "      <td>0.0</td>\n",
              "      <td>0.0</td>\n",
              "      <td>0.0</td>\n",
              "      <td>0.0</td>\n",
              "      <td>...</td>\n",
              "      <td>0.0</td>\n",
              "      <td>0.0</td>\n",
              "      <td>0.0</td>\n",
              "      <td>0.0</td>\n",
              "      <td>0.0</td>\n",
              "      <td>0.0</td>\n",
              "      <td>0.0</td>\n",
              "      <td>0.0</td>\n",
              "      <td>0.0</td>\n",
              "      <td>0.0</td>\n",
              "      <td>0.0</td>\n",
              "      <td>0.0</td>\n",
              "      <td>0.0</td>\n",
              "      <td>0.0</td>\n",
              "      <td>0.0</td>\n",
              "      <td>0.0</td>\n",
              "      <td>0.0</td>\n",
              "      <td>0.0</td>\n",
              "      <td>0.0</td>\n",
              "      <td>0.0</td>\n",
              "      <td>0.0</td>\n",
              "      <td>0.0</td>\n",
              "      <td>0.0</td>\n",
              "      <td>0.0</td>\n",
              "      <td>0.0</td>\n",
              "      <td>0.0</td>\n",
              "      <td>0.0</td>\n",
              "      <td>0.0</td>\n",
              "      <td>0.0</td>\n",
              "      <td>0.0</td>\n",
              "      <td>0.0</td>\n",
              "      <td>0.0</td>\n",
              "      <td>0.0</td>\n",
              "      <td>0.0</td>\n",
              "      <td>0.0</td>\n",
              "      <td>0.0</td>\n",
              "      <td>0.0</td>\n",
              "      <td>0.0</td>\n",
              "      <td>0.0</td>\n",
              "      <td>0.0</td>\n",
              "    </tr>\n",
              "    <tr>\n",
              "      <th>5ef15970297e8282ea1f0e3ddc528503</th>\n",
              "      <td>0.0</td>\n",
              "      <td>0.0</td>\n",
              "      <td>0.0</td>\n",
              "      <td>0.0</td>\n",
              "      <td>0.0</td>\n",
              "      <td>0.0</td>\n",
              "      <td>0.0</td>\n",
              "      <td>0.0</td>\n",
              "      <td>0.0</td>\n",
              "      <td>0.0</td>\n",
              "      <td>0.0</td>\n",
              "      <td>0.0</td>\n",
              "      <td>0.0</td>\n",
              "      <td>0.0</td>\n",
              "      <td>0.0</td>\n",
              "      <td>0.0</td>\n",
              "      <td>0.0</td>\n",
              "      <td>0.0</td>\n",
              "      <td>0.0</td>\n",
              "      <td>0.0</td>\n",
              "      <td>0.0</td>\n",
              "      <td>0.0</td>\n",
              "      <td>0.0</td>\n",
              "      <td>0.0</td>\n",
              "      <td>0.0</td>\n",
              "      <td>0.0</td>\n",
              "      <td>0.0</td>\n",
              "      <td>0.0</td>\n",
              "      <td>0.0</td>\n",
              "      <td>0.0</td>\n",
              "      <td>0.0</td>\n",
              "      <td>0.0</td>\n",
              "      <td>0.0</td>\n",
              "      <td>0.0</td>\n",
              "      <td>0.0</td>\n",
              "      <td>0.0</td>\n",
              "      <td>0.0</td>\n",
              "      <td>0.0</td>\n",
              "      <td>0.0</td>\n",
              "      <td>0.0</td>\n",
              "      <td>...</td>\n",
              "      <td>0.0</td>\n",
              "      <td>0.0</td>\n",
              "      <td>0.0</td>\n",
              "      <td>0.0</td>\n",
              "      <td>0.0</td>\n",
              "      <td>0.0</td>\n",
              "      <td>0.0</td>\n",
              "      <td>0.0</td>\n",
              "      <td>0.0</td>\n",
              "      <td>0.0</td>\n",
              "      <td>0.0</td>\n",
              "      <td>0.0</td>\n",
              "      <td>0.0</td>\n",
              "      <td>0.0</td>\n",
              "      <td>0.0</td>\n",
              "      <td>0.0</td>\n",
              "      <td>0.0</td>\n",
              "      <td>0.0</td>\n",
              "      <td>0.0</td>\n",
              "      <td>0.0</td>\n",
              "      <td>0.0</td>\n",
              "      <td>0.0</td>\n",
              "      <td>0.0</td>\n",
              "      <td>0.0</td>\n",
              "      <td>0.0</td>\n",
              "      <td>0.0</td>\n",
              "      <td>0.0</td>\n",
              "      <td>0.0</td>\n",
              "      <td>0.0</td>\n",
              "      <td>0.0</td>\n",
              "      <td>0.0</td>\n",
              "      <td>0.0</td>\n",
              "      <td>0.0</td>\n",
              "      <td>0.0</td>\n",
              "      <td>0.0</td>\n",
              "      <td>0.0</td>\n",
              "      <td>0.0</td>\n",
              "      <td>0.0</td>\n",
              "      <td>0.0</td>\n",
              "      <td>0.0</td>\n",
              "    </tr>\n",
              "    <tr>\n",
              "      <th>57f68d17b05e574df89591b08dab6f6a</th>\n",
              "      <td>0.0</td>\n",
              "      <td>0.0</td>\n",
              "      <td>0.0</td>\n",
              "      <td>0.0</td>\n",
              "      <td>0.0</td>\n",
              "      <td>0.0</td>\n",
              "      <td>0.0</td>\n",
              "      <td>0.0</td>\n",
              "      <td>0.0</td>\n",
              "      <td>0.0</td>\n",
              "      <td>0.0</td>\n",
              "      <td>0.0</td>\n",
              "      <td>0.0</td>\n",
              "      <td>0.0</td>\n",
              "      <td>0.0</td>\n",
              "      <td>0.0</td>\n",
              "      <td>0.0</td>\n",
              "      <td>0.0</td>\n",
              "      <td>0.0</td>\n",
              "      <td>0.0</td>\n",
              "      <td>0.0</td>\n",
              "      <td>0.0</td>\n",
              "      <td>0.0</td>\n",
              "      <td>0.0</td>\n",
              "      <td>0.0</td>\n",
              "      <td>0.0</td>\n",
              "      <td>0.0</td>\n",
              "      <td>0.0</td>\n",
              "      <td>0.0</td>\n",
              "      <td>0.0</td>\n",
              "      <td>0.0</td>\n",
              "      <td>0.0</td>\n",
              "      <td>0.0</td>\n",
              "      <td>0.0</td>\n",
              "      <td>0.0</td>\n",
              "      <td>0.0</td>\n",
              "      <td>0.0</td>\n",
              "      <td>0.0</td>\n",
              "      <td>0.0</td>\n",
              "      <td>0.0</td>\n",
              "      <td>...</td>\n",
              "      <td>0.0</td>\n",
              "      <td>0.0</td>\n",
              "      <td>0.0</td>\n",
              "      <td>0.0</td>\n",
              "      <td>0.0</td>\n",
              "      <td>0.0</td>\n",
              "      <td>0.0</td>\n",
              "      <td>0.0</td>\n",
              "      <td>0.0</td>\n",
              "      <td>0.0</td>\n",
              "      <td>0.0</td>\n",
              "      <td>0.0</td>\n",
              "      <td>0.0</td>\n",
              "      <td>0.0</td>\n",
              "      <td>0.0</td>\n",
              "      <td>0.0</td>\n",
              "      <td>0.0</td>\n",
              "      <td>0.0</td>\n",
              "      <td>0.0</td>\n",
              "      <td>0.0</td>\n",
              "      <td>0.0</td>\n",
              "      <td>0.0</td>\n",
              "      <td>0.0</td>\n",
              "      <td>0.0</td>\n",
              "      <td>0.0</td>\n",
              "      <td>0.0</td>\n",
              "      <td>0.0</td>\n",
              "      <td>0.0</td>\n",
              "      <td>0.0</td>\n",
              "      <td>0.0</td>\n",
              "      <td>0.0</td>\n",
              "      <td>0.0</td>\n",
              "      <td>0.0</td>\n",
              "      <td>0.0</td>\n",
              "      <td>0.0</td>\n",
              "      <td>0.0</td>\n",
              "      <td>0.0</td>\n",
              "      <td>0.0</td>\n",
              "      <td>0.0</td>\n",
              "      <td>0.0</td>\n",
              "    </tr>\n",
              "    <tr>\n",
              "      <th>739e8ddbbd7a0d61e33949614a14d8cb</th>\n",
              "      <td>0.0</td>\n",
              "      <td>0.0</td>\n",
              "      <td>0.0</td>\n",
              "      <td>0.0</td>\n",
              "      <td>0.0</td>\n",
              "      <td>0.0</td>\n",
              "      <td>0.0</td>\n",
              "      <td>0.0</td>\n",
              "      <td>0.0</td>\n",
              "      <td>0.0</td>\n",
              "      <td>0.0</td>\n",
              "      <td>0.0</td>\n",
              "      <td>0.0</td>\n",
              "      <td>0.0</td>\n",
              "      <td>0.0</td>\n",
              "      <td>0.0</td>\n",
              "      <td>0.0</td>\n",
              "      <td>0.0</td>\n",
              "      <td>0.0</td>\n",
              "      <td>0.0</td>\n",
              "      <td>0.0</td>\n",
              "      <td>0.0</td>\n",
              "      <td>0.0</td>\n",
              "      <td>0.0</td>\n",
              "      <td>0.0</td>\n",
              "      <td>0.0</td>\n",
              "      <td>0.0</td>\n",
              "      <td>0.0</td>\n",
              "      <td>0.0</td>\n",
              "      <td>0.0</td>\n",
              "      <td>0.0</td>\n",
              "      <td>0.0</td>\n",
              "      <td>0.0</td>\n",
              "      <td>0.0</td>\n",
              "      <td>0.0</td>\n",
              "      <td>0.0</td>\n",
              "      <td>0.0</td>\n",
              "      <td>0.0</td>\n",
              "      <td>0.0</td>\n",
              "      <td>0.0</td>\n",
              "      <td>...</td>\n",
              "      <td>0.0</td>\n",
              "      <td>0.0</td>\n",
              "      <td>0.0</td>\n",
              "      <td>0.0</td>\n",
              "      <td>0.0</td>\n",
              "      <td>0.0</td>\n",
              "      <td>0.0</td>\n",
              "      <td>0.0</td>\n",
              "      <td>0.0</td>\n",
              "      <td>0.0</td>\n",
              "      <td>0.0</td>\n",
              "      <td>0.0</td>\n",
              "      <td>0.0</td>\n",
              "      <td>0.0</td>\n",
              "      <td>0.0</td>\n",
              "      <td>0.0</td>\n",
              "      <td>0.0</td>\n",
              "      <td>0.0</td>\n",
              "      <td>0.0</td>\n",
              "      <td>0.0</td>\n",
              "      <td>0.0</td>\n",
              "      <td>0.0</td>\n",
              "      <td>0.0</td>\n",
              "      <td>0.0</td>\n",
              "      <td>0.0</td>\n",
              "      <td>0.0</td>\n",
              "      <td>0.0</td>\n",
              "      <td>0.0</td>\n",
              "      <td>0.0</td>\n",
              "      <td>0.0</td>\n",
              "      <td>0.0</td>\n",
              "      <td>0.0</td>\n",
              "      <td>0.0</td>\n",
              "      <td>0.0</td>\n",
              "      <td>0.0</td>\n",
              "      <td>0.0</td>\n",
              "      <td>0.0</td>\n",
              "      <td>0.0</td>\n",
              "      <td>0.0</td>\n",
              "      <td>0.0</td>\n",
              "    </tr>\n",
              "    <tr>\n",
              "      <th>3d2c99e2be6594fc0a56af7754498c7b</th>\n",
              "      <td>0.0</td>\n",
              "      <td>0.0</td>\n",
              "      <td>0.0</td>\n",
              "      <td>0.0</td>\n",
              "      <td>0.0</td>\n",
              "      <td>0.0</td>\n",
              "      <td>0.0</td>\n",
              "      <td>0.0</td>\n",
              "      <td>0.0</td>\n",
              "      <td>0.0</td>\n",
              "      <td>0.0</td>\n",
              "      <td>0.0</td>\n",
              "      <td>0.0</td>\n",
              "      <td>0.0</td>\n",
              "      <td>0.0</td>\n",
              "      <td>0.0</td>\n",
              "      <td>0.0</td>\n",
              "      <td>0.0</td>\n",
              "      <td>0.0</td>\n",
              "      <td>0.0</td>\n",
              "      <td>0.0</td>\n",
              "      <td>0.0</td>\n",
              "      <td>0.0</td>\n",
              "      <td>0.0</td>\n",
              "      <td>0.0</td>\n",
              "      <td>0.0</td>\n",
              "      <td>0.0</td>\n",
              "      <td>0.0</td>\n",
              "      <td>0.0</td>\n",
              "      <td>0.0</td>\n",
              "      <td>0.0</td>\n",
              "      <td>0.0</td>\n",
              "      <td>0.0</td>\n",
              "      <td>0.0</td>\n",
              "      <td>0.0</td>\n",
              "      <td>0.0</td>\n",
              "      <td>0.0</td>\n",
              "      <td>0.0</td>\n",
              "      <td>0.0</td>\n",
              "      <td>0.0</td>\n",
              "      <td>...</td>\n",
              "      <td>0.0</td>\n",
              "      <td>0.0</td>\n",
              "      <td>0.0</td>\n",
              "      <td>0.0</td>\n",
              "      <td>0.0</td>\n",
              "      <td>0.0</td>\n",
              "      <td>0.0</td>\n",
              "      <td>0.0</td>\n",
              "      <td>0.0</td>\n",
              "      <td>0.0</td>\n",
              "      <td>0.0</td>\n",
              "      <td>0.0</td>\n",
              "      <td>0.0</td>\n",
              "      <td>0.0</td>\n",
              "      <td>5.0</td>\n",
              "      <td>0.0</td>\n",
              "      <td>0.0</td>\n",
              "      <td>0.0</td>\n",
              "      <td>0.0</td>\n",
              "      <td>0.0</td>\n",
              "      <td>0.0</td>\n",
              "      <td>0.0</td>\n",
              "      <td>0.0</td>\n",
              "      <td>0.0</td>\n",
              "      <td>0.0</td>\n",
              "      <td>0.0</td>\n",
              "      <td>0.0</td>\n",
              "      <td>0.0</td>\n",
              "      <td>0.0</td>\n",
              "      <td>0.0</td>\n",
              "      <td>0.0</td>\n",
              "      <td>0.0</td>\n",
              "      <td>0.0</td>\n",
              "      <td>0.0</td>\n",
              "      <td>0.0</td>\n",
              "      <td>0.0</td>\n",
              "      <td>0.0</td>\n",
              "      <td>0.0</td>\n",
              "      <td>0.0</td>\n",
              "      <td>0.0</td>\n",
              "    </tr>\n",
              "  </tbody>\n",
              "</table>\n",
              "<p>5 rows × 1203 columns</p>\n",
              "</div>"
            ],
            "text/plain": [
              "customer_id                       00674fe0f6a6f190bd022dbca99795dc  ...  ffd294eea523f67ee8c743d3a904ee20\n",
              "product_id                                                          ...                                  \n",
              "062907032db5e0c065bab136233a9544                               0.0  ...                               0.0\n",
              "5ef15970297e8282ea1f0e3ddc528503                               0.0  ...                               0.0\n",
              "57f68d17b05e574df89591b08dab6f6a                               0.0  ...                               0.0\n",
              "739e8ddbbd7a0d61e33949614a14d8cb                               0.0  ...                               0.0\n",
              "3d2c99e2be6594fc0a56af7754498c7b                               0.0  ...                               0.0\n",
              "\n",
              "[5 rows x 1203 columns]"
            ]
          },
          "metadata": {},
          "execution_count": 38
        }
      ]
    },
    {
      "cell_type": "markdown",
      "metadata": {
        "id": "3y-J_7z9gYvb"
      },
      "source": [
        "##4.2 Similaridade de cossenos"
      ]
    },
    {
      "cell_type": "code",
      "metadata": {
        "colab": {
          "base_uri": "https://localhost:8080/"
        },
        "id": "bvzES4r49uQ0",
        "outputId": "8c7c5e94-8d71-4099-a564-da6f829f5e4f"
      },
      "source": [
        "from sklearn.metrics.pairwise import cosine_similarity\n",
        "\n",
        "cos_products = cosine_similarity(matriz_de_relacionamento)\n",
        "\n",
        "print(cos_products)\n",
        "cos_products.shape"
      ],
      "execution_count": 39,
      "outputs": [
        {
          "output_type": "stream",
          "name": "stdout",
          "text": [
            "[[1. 0. 0. ... 0. 0. 0.]\n",
            " [0. 1. 0. ... 0. 0. 0.]\n",
            " [0. 0. 1. ... 0. 0. 0.]\n",
            " ...\n",
            " [0. 0. 0. ... 1. 0. 0.]\n",
            " [0. 0. 0. ... 0. 1. 0.]\n",
            " [0. 0. 0. ... 0. 0. 1.]]\n"
          ]
        },
        {
          "output_type": "execute_result",
          "data": {
            "text/plain": [
              "(1000, 1000)"
            ]
          },
          "metadata": {},
          "execution_count": 39
        }
      ]
    },
    {
      "cell_type": "markdown",
      "metadata": {
        "id": "jLX0Whb1kSjq"
      },
      "source": [
        "Função de recomendação"
      ]
    },
    {
      "cell_type": "code",
      "metadata": {
        "id": "Enljj-gL97DI"
      },
      "source": [
        "def recomendar(id_produto):\n",
        "  print(f\"Produto de interesse: {id_produto}\")\n",
        "  try:\n",
        "    idx = matriz_de_relacionamento.index.tolist().index(id_produto)\n",
        "    closest_10_products = np.argsort(-cos_products[idx])[1:11]\n",
        "    print(f\"Retornando 10 produtos mais próximos de: {id_produto}.\")\n",
        "    return matriz_de_relacionamento.index[closest_10_products].tolist()\n",
        "  except ValueError as e:\n",
        "    print(f\"O item {id_produto} não está incluso na matriz de recomendação. Retornando os 10 mais avaliados\") #retorno caso o ID não esteja na matriz de relacionamento\n",
        "    return top_product_sellers"
      ],
      "execution_count": 40,
      "outputs": []
    },
    {
      "cell_type": "markdown",
      "metadata": {
        "id": "geqzzzTXgk6g"
      },
      "source": [
        "##4.3 Teste do modelo"
      ]
    },
    {
      "cell_type": "markdown",
      "metadata": {
        "id": "HgCCLbxjkXRb"
      },
      "source": [
        "Utilizando um ID existente"
      ]
    },
    {
      "cell_type": "code",
      "metadata": {
        "id": "BkIUeKPMEdt9"
      },
      "source": [
        "id = 'e76572c2ae4cede1e3b2ead512423efe'"
      ],
      "execution_count": 41,
      "outputs": []
    },
    {
      "cell_type": "code",
      "metadata": {
        "colab": {
          "base_uri": "https://localhost:8080/"
        },
        "id": "PcaYT-DX_lsI",
        "outputId": "8f5b1a82-8a4e-4c1a-ed1f-7a8ab46b311f"
      },
      "source": [
        "ids_10_mais_proximos = recomendar(id)\n",
        "\n",
        "ids_10_mais_proximos"
      ],
      "execution_count": 42,
      "outputs": [
        {
          "output_type": "stream",
          "name": "stdout",
          "text": [
            "Produto de interesse: e76572c2ae4cede1e3b2ead512423efe\n",
            "Retornando 10 produtos mais próximos de: e76572c2ae4cede1e3b2ead512423efe.\n"
          ]
        },
        {
          "output_type": "execute_result",
          "data": {
            "text/plain": [
              "['ac1fcaf7402bfbf019afdcce1a784ad4',\n",
              " 'b09cd20111b8c27705b617c3b5af7608',\n",
              " '9eacfe990da87a66d7fc95e4f97bad14',\n",
              " 'e76572c2ae4cede1e3b2ead512423efe',\n",
              " 'd5bf1e6386a450dd26acf14a6f41768f',\n",
              " '001b237c0e9bb435f2e54071129237e9',\n",
              " 'a755921e6627c919c9693f6b34884767',\n",
              " 'a73521e768a217ac6a47c1752ceaf71e',\n",
              " 'a71d0bc0c279b81bda788ecaca585ca5',\n",
              " 'a6d040e128bd9c3f2f4c04f27f3ffbf6']"
            ]
          },
          "metadata": {},
          "execution_count": 42
        }
      ]
    },
    {
      "cell_type": "markdown",
      "metadata": {
        "id": "gfVeJXXbkZUz"
      },
      "source": [
        "Utilizando um ID diferente, ele retorna os top 10 de reviews daquela categoria"
      ]
    },
    {
      "cell_type": "code",
      "metadata": {
        "id": "UtoA8PzJL2UE"
      },
      "source": [
        "id2 = 'id_novo'"
      ],
      "execution_count": 43,
      "outputs": []
    },
    {
      "cell_type": "code",
      "metadata": {
        "colab": {
          "base_uri": "https://localhost:8080/"
        },
        "id": "ZwRwj7DVN9R5",
        "outputId": "190b5d07-ffea-4091-c5ac-fa45b1e9f1ba"
      },
      "source": [
        "ids_10_mais_proximos = recomendar(id2)\n",
        "\n",
        "ids_10_mais_proximos"
      ],
      "execution_count": 44,
      "outputs": [
        {
          "output_type": "stream",
          "name": "stdout",
          "text": [
            "Produto de interesse: id_novo\n",
            "O item id_novo não está incluso na matriz de recomendação. Retornando os 10 mais avaliados\n"
          ]
        },
        {
          "output_type": "execute_result",
          "data": {
            "text/plain": [
              "['99a4788cb24856965c36a24e339b6058',\n",
              " 'f1c7f353075ce59d8a6f3cf58f419c9c',\n",
              " '06edb72f1e0c64b14c5b79353f7abea3',\n",
              " 'ec2d43cc59763ec91694573b31f1c29a',\n",
              " '84f456958365164420cfc80fbe4c7fab',\n",
              " '777d2e438a1b645f3aec9bd57e92672c',\n",
              " '363218ba55c610b750224f90bdd34be1',\n",
              " '64fb265487de2238627ce43fe8a67efc',\n",
              " '2a2d22ae30e026f1893083c8405ca522',\n",
              " 'bd6e6fce9ada76ea2db0f1912e8e478f']"
            ]
          },
          "metadata": {},
          "execution_count": 44
        }
      ]
    },
    {
      "cell_type": "markdown",
      "metadata": {
        "id": "2iwekGB0kdQx"
      },
      "source": [
        "O modelo funciona bem e sua aplicação pode ser usada na seguinte situação:\n",
        "* Quando um usuário entra numa seção da loja e pesquisa um item, aparecendo assim itens da mesma categoria como sugestão para facilitar a pesquisa do usuário.\n",
        "\n",
        "Porém tem alguns pontos de melhoria que podem ser aplicados\n",
        "* Os reviews são baseadas no pedido de compra, ou seja, se o usuário fez uma compra de 5 itens, a nota vai para os 5 itens, indiferente se um produto foi mais ou menos satisfatório que o outro\n",
        "* A média de reviews pode ser uma métrica que engana pois uma venda de um produto com 1 review de 5 pontos tem média maior que 200 vendas de um produto com média de 4.9, porém o último item seria mais popular.\n",
        "* Algumas categorias da loja possui poucos itens como \"cds_dvds_musicais\" que possui 1 item, seria interessante para a empresa ter uma distribuição categorica um pouco mais abrangente para evitar possíveis erros na recomendação"
      ]
    }
  ]
}